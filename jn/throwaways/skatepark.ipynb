{
 "cells": [
  {
   "cell_type": "code",
   "execution_count": 19,
   "metadata": {},
   "outputs": [],
   "source": [
    "import pandas as pd\n",
    "import datetime, random"
   ]
  },
  {
   "cell_type": "code",
   "execution_count": 22,
   "metadata": {},
   "outputs": [],
   "source": [
    "columns = ['data', 'time', 'skateboarders', 'bikers', 'scooters', 'rollerskaters', 'others']\n",
    "\n",
    "# Okay I'll just need to pick some random dates according to my classification\n",
    "# Within a month, I'll need 1 random day of each week \n",
    "# write a function: randomDate(month, day=1-7)\n",
    "def randomDate(year: int, month: int, day: int) -> datetime.date:\n",
    "    nthDayOfWeek = []\n",
    "    for i in range(1, 32):\n",
    "        try:\n",
    "            date = datetime.date(year, month, i)\n",
    "            if date.isoweekday() == day:\n",
    "                nthDayOfWeek.append(date)\n",
    "        except ValueError:\n",
    "            break\n",
    "    return random.choice(nthDayOfWeek)\n"
   ]
  },
  {
   "cell_type": "code",
   "execution_count": 61,
   "metadata": {},
   "outputs": [
    {
     "data": {
      "text/plain": [
       "datetime.date(2024, 10, 13)"
      ]
     },
     "execution_count": 61,
     "metadata": {},
     "output_type": "execute_result"
    }
   ],
   "source": [
    "randomDate(2024, 10, 7)"
   ]
  },
  {
   "cell_type": "code",
   "execution_count": null,
   "metadata": {},
   "outputs": [],
   "source": []
  }
 ],
 "metadata": {
  "kernelspec": {
   "display_name": "base",
   "language": "python",
   "name": "python3"
  },
  "language_info": {
   "codemirror_mode": {
    "name": "ipython",
    "version": 3
   },
   "file_extension": ".py",
   "mimetype": "text/x-python",
   "name": "python",
   "nbconvert_exporter": "python",
   "pygments_lexer": "ipython3",
   "version": "3.11.5"
  }
 },
 "nbformat": 4,
 "nbformat_minor": 2
}
