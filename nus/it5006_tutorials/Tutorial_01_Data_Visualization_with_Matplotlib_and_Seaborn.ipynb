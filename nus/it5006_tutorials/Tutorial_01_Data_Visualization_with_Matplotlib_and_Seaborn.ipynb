{
 "cells": [
  {
   "cell_type": "markdown",
   "metadata": {
    "id": "f6QvBiYT7syS"
   },
   "source": [
    "# Tutorial 1 (Week 1) - Data Visualization using Matplotlib and Seaborn\n",
    "\n",
    "## Learning Objectives\n",
    "After completing this tutorial, students should be able to:\n",
    "+ Load and inspect datasets using pandas library\n",
    "+ Visualize data using Matplotlib\n",
    "    + Describe parts of a Matplotlib figure\n",
    "    + Create plots of various types (e.g., line plots, scatter plots) using pyplot\n",
    "+ Visualize data using Seaborn\n",
    "    + Create plots using axes-level and figure-level functions in Seaborn\n",
    "    + Visualize statistical relationships\n",
    "    + Visualize distributions\n",
    "    + Visualize categorical data"
   ]
  },
  {
   "cell_type": "markdown",
   "metadata": {
    "id": "esd9jvcC7syY"
   },
   "source": [
    "This tutorial references content from the [Matplotlib tutorial](https://matplotlib.org/stable/tutorials/index.html) and [seaborn tutorial](https://seaborn.pydata.org/tutorial.html)."
   ]
  },
  {
   "cell_type": "markdown",
   "metadata": {
    "id": "TtqDnDsLdEWM"
   },
   "source": [
    "# Loading and Inspecting Datasets"
   ]
  },
  {
   "cell_type": "markdown",
   "metadata": {
    "id": "faNi6H346pe6"
   },
   "source": [
    "We will work with the dataset of [Broadway Shows](https://www.kaggle.com/datasets/mexwell/broadway-shows), which is available in csv (comma-separated values) format from Kaggle. \n",
    "\n",
    "For your convenience, the cleaned data file (\"broadway_clean.csv\") has been uploaded on Canvas along with this notebook. Please take some time to understand this dataset by going through the Data Dictionary at the above link, as it will help you appreciate the objectives of the various visualizations we are going to create.\n",
    "\n",
    "[pandas (Python Data Analysis Library)](https://pandas.pydata.org/) provides convenient functions to work with data in Python. The most-used data structure in pandas is `DataFrame`, which is essentially a table representation of the data.\n",
    "\n",
    "We use the function `read_csv()` to load our Broadway Shows data into a `DataFrame` variable.\n",
    "\n",
    "After loading the data, it is common to grab the first few rows of the resulting table to see what the dataset looks like."
   ]
  },
  {
   "cell_type": "code",
   "execution_count": 2,
   "metadata": {
    "id": "juq5cFLk6zcE"
   },
   "outputs": [
    {
     "data": {
      "text/html": [
       "<div>\n",
       "<style scoped>\n",
       "    .dataframe tbody tr th:only-of-type {\n",
       "        vertical-align: middle;\n",
       "    }\n",
       "\n",
       "    .dataframe tbody tr th {\n",
       "        vertical-align: top;\n",
       "    }\n",
       "\n",
       "    .dataframe thead th {\n",
       "        text-align: right;\n",
       "    }\n",
       "</style>\n",
       "<table border=\"1\" class=\"dataframe\">\n",
       "  <thead>\n",
       "    <tr style=\"text-align: right;\">\n",
       "      <th></th>\n",
       "      <th>Date.Day</th>\n",
       "      <th>Date.Full</th>\n",
       "      <th>Date.Month</th>\n",
       "      <th>Date.Year</th>\n",
       "      <th>Show.Name</th>\n",
       "      <th>Show.Theatre</th>\n",
       "      <th>Show.Type</th>\n",
       "      <th>Statistics.Attendance</th>\n",
       "      <th>Statistics.Capacity</th>\n",
       "      <th>Statistics.Gross</th>\n",
       "      <th>Statistics.Gross Potential</th>\n",
       "      <th>Statistics.Performances</th>\n",
       "    </tr>\n",
       "  </thead>\n",
       "  <tbody>\n",
       "    <tr>\n",
       "      <th>0</th>\n",
       "      <td>3</td>\n",
       "      <td>10/3/2004</td>\n",
       "      <td>10</td>\n",
       "      <td>2004</td>\n",
       "      <td>Marc Salem'S Mind Games</td>\n",
       "      <td>Lyceum</td>\n",
       "      <td>Special</td>\n",
       "      <td>73</td>\n",
       "      <td>10</td>\n",
       "      <td>3668</td>\n",
       "      <td>10</td>\n",
       "      <td>1</td>\n",
       "    </tr>\n",
       "    <tr>\n",
       "      <th>1</th>\n",
       "      <td>1</td>\n",
       "      <td>11/1/1998</td>\n",
       "      <td>11</td>\n",
       "      <td>1998</td>\n",
       "      <td>A Mom'S Life</td>\n",
       "      <td>Belasco</td>\n",
       "      <td>Special</td>\n",
       "      <td>134</td>\n",
       "      <td>13</td>\n",
       "      <td>3822</td>\n",
       "      <td>12</td>\n",
       "      <td>1</td>\n",
       "    </tr>\n",
       "    <tr>\n",
       "      <th>2</th>\n",
       "      <td>9</td>\n",
       "      <td>3/9/2003</td>\n",
       "      <td>3</td>\n",
       "      <td>2003</td>\n",
       "      <td>Urban Cowboy</td>\n",
       "      <td>Broadhurst</td>\n",
       "      <td>Musical</td>\n",
       "      <td>748</td>\n",
       "      <td>13</td>\n",
       "      <td>39937</td>\n",
       "      <td>8</td>\n",
       "      <td>0</td>\n",
       "    </tr>\n",
       "    <tr>\n",
       "      <th>3</th>\n",
       "      <td>2</td>\n",
       "      <td>5/2/2004</td>\n",
       "      <td>5</td>\n",
       "      <td>2004</td>\n",
       "      <td>Prymate</td>\n",
       "      <td>Longacre</td>\n",
       "      <td>Play</td>\n",
       "      <td>1140</td>\n",
       "      <td>13</td>\n",
       "      <td>37246</td>\n",
       "      <td>7</td>\n",
       "      <td>0</td>\n",
       "    </tr>\n",
       "    <tr>\n",
       "      <th>4</th>\n",
       "      <td>18</td>\n",
       "      <td>9/18/2005</td>\n",
       "      <td>9</td>\n",
       "      <td>2005</td>\n",
       "      <td>Latinologues</td>\n",
       "      <td>Helen Hayes</td>\n",
       "      <td>Play</td>\n",
       "      <td>621</td>\n",
       "      <td>13</td>\n",
       "      <td>31790</td>\n",
       "      <td>13</td>\n",
       "      <td>0</td>\n",
       "    </tr>\n",
       "  </tbody>\n",
       "</table>\n",
       "</div>"
      ],
      "text/plain": [
       "   Date.Day  Date.Full  Date.Month  Date.Year                Show.Name  \\\n",
       "0         3  10/3/2004          10       2004  Marc Salem'S Mind Games   \n",
       "1         1  11/1/1998          11       1998             A Mom'S Life   \n",
       "2         9   3/9/2003           3       2003             Urban Cowboy   \n",
       "3         2   5/2/2004           5       2004                  Prymate   \n",
       "4        18  9/18/2005           9       2005             Latinologues   \n",
       "\n",
       "  Show.Theatre Show.Type  Statistics.Attendance  Statistics.Capacity  \\\n",
       "0       Lyceum   Special                     73                   10   \n",
       "1      Belasco   Special                    134                   13   \n",
       "2   Broadhurst   Musical                    748                   13   \n",
       "3     Longacre      Play                   1140                   13   \n",
       "4  Helen Hayes      Play                    621                   13   \n",
       "\n",
       "   Statistics.Gross  Statistics.Gross Potential  Statistics.Performances  \n",
       "0              3668                          10                        1  \n",
       "1              3822                          12                        1  \n",
       "2             39937                           8                        0  \n",
       "3             37246                           7                        0  \n",
       "4             31790                          13                        0  "
      ]
     },
     "execution_count": 2,
     "metadata": {},
     "output_type": "execute_result"
    }
   ],
   "source": [
    "import pandas as pd\n",
    "\n",
    "shows = pd.read_csv( \"broadway_clean.csv\" )\n",
    "shows.head()"
   ]
  },
  {
   "cell_type": "markdown",
   "metadata": {},
   "source": [
    "There are various `DataFrame` properties you can query to inspect the data. For instance, `shape` gives you the dimension of the data table in the form of `(num_of_rows, num_of_columns)`. This can be useful to check that the whole dataset is properly loaded and no row / column is missed out from the file."
   ]
  },
  {
   "cell_type": "code",
   "execution_count": 3,
   "metadata": {},
   "outputs": [
    {
     "data": {
      "text/plain": [
       "(29167, 12)"
      ]
     },
     "execution_count": 3,
     "metadata": {},
     "output_type": "execute_result"
    }
   ],
   "source": [
    "shows.shape"
   ]
  },
  {
   "cell_type": "markdown",
   "metadata": {},
   "source": [
    "__EXERCISE:__\n",
    "\n",
    "A few easy tasks to get you warmed up! Look up how to do the following for the Broadway Shows dataset, and fill up the code cells that are tagged with `TODO`.\n",
    "1. Get the __last__ 8 rows.\n",
    "2. Generate descriptive statistic summary of the dataset.\n",
    "3. Select only the year, show name, and gross revenue columns.\n",
    "4. Select only rows with filled capacity of 50% or more.\n",
    "\n",
    "The guides on [pandas documentation page](https://pandas.pydata.org/docs/index.html) may come in handy!"
   ]
  },
  {
   "cell_type": "code",
   "execution_count": 4,
   "metadata": {},
   "outputs": [
    {
     "data": {
      "text/html": [
       "<div>\n",
       "<style scoped>\n",
       "    .dataframe tbody tr th:only-of-type {\n",
       "        vertical-align: middle;\n",
       "    }\n",
       "\n",
       "    .dataframe tbody tr th {\n",
       "        vertical-align: top;\n",
       "    }\n",
       "\n",
       "    .dataframe thead th {\n",
       "        text-align: right;\n",
       "    }\n",
       "</style>\n",
       "<table border=\"1\" class=\"dataframe\">\n",
       "  <thead>\n",
       "    <tr style=\"text-align: right;\">\n",
       "      <th></th>\n",
       "      <th>Date.Day</th>\n",
       "      <th>Date.Full</th>\n",
       "      <th>Date.Month</th>\n",
       "      <th>Date.Year</th>\n",
       "      <th>Show.Name</th>\n",
       "      <th>Show.Theatre</th>\n",
       "      <th>Show.Type</th>\n",
       "      <th>Statistics.Attendance</th>\n",
       "      <th>Statistics.Capacity</th>\n",
       "      <th>Statistics.Gross</th>\n",
       "      <th>Statistics.Gross Potential</th>\n",
       "      <th>Statistics.Performances</th>\n",
       "    </tr>\n",
       "  </thead>\n",
       "  <tbody>\n",
       "    <tr>\n",
       "      <th>29159</th>\n",
       "      <td>26</td>\n",
       "      <td>6/26/2016</td>\n",
       "      <td>6</td>\n",
       "      <td>2016</td>\n",
       "      <td>The King And I 2015</td>\n",
       "      <td>Vivian Beaumont</td>\n",
       "      <td>Musical</td>\n",
       "      <td>8370</td>\n",
       "      <td>100</td>\n",
       "      <td>840824</td>\n",
       "      <td>73</td>\n",
       "      <td>8</td>\n",
       "    </tr>\n",
       "    <tr>\n",
       "      <th>29160</th>\n",
       "      <td>26</td>\n",
       "      <td>6/26/2016</td>\n",
       "      <td>6</td>\n",
       "      <td>2016</td>\n",
       "      <td>The Lion King</td>\n",
       "      <td>Minskoff</td>\n",
       "      <td>Musical</td>\n",
       "      <td>13570</td>\n",
       "      <td>100</td>\n",
       "      <td>2113062</td>\n",
       "      <td>100</td>\n",
       "      <td>8</td>\n",
       "    </tr>\n",
       "    <tr>\n",
       "      <th>29161</th>\n",
       "      <td>3</td>\n",
       "      <td>7/3/2016</td>\n",
       "      <td>7</td>\n",
       "      <td>2016</td>\n",
       "      <td>The Lion King</td>\n",
       "      <td>Minskoff</td>\n",
       "      <td>Musical</td>\n",
       "      <td>13573</td>\n",
       "      <td>100</td>\n",
       "      <td>2164298</td>\n",
       "      <td>101</td>\n",
       "      <td>8</td>\n",
       "    </tr>\n",
       "    <tr>\n",
       "      <th>29162</th>\n",
       "      <td>3</td>\n",
       "      <td>7/3/2016</td>\n",
       "      <td>7</td>\n",
       "      <td>2016</td>\n",
       "      <td>Waitress</td>\n",
       "      <td>Brooks Atkinson</td>\n",
       "      <td>Musical</td>\n",
       "      <td>8324</td>\n",
       "      <td>100</td>\n",
       "      <td>1010938</td>\n",
       "      <td>99</td>\n",
       "      <td>8</td>\n",
       "    </tr>\n",
       "    <tr>\n",
       "      <th>29163</th>\n",
       "      <td>17</td>\n",
       "      <td>7/17/2016</td>\n",
       "      <td>7</td>\n",
       "      <td>2016</td>\n",
       "      <td>Waitress</td>\n",
       "      <td>Brooks Atkinson</td>\n",
       "      <td>Musical</td>\n",
       "      <td>8360</td>\n",
       "      <td>100</td>\n",
       "      <td>1068393</td>\n",
       "      <td>105</td>\n",
       "      <td>8</td>\n",
       "    </tr>\n",
       "    <tr>\n",
       "      <th>29164</th>\n",
       "      <td>24</td>\n",
       "      <td>7/24/2016</td>\n",
       "      <td>7</td>\n",
       "      <td>2016</td>\n",
       "      <td>Waitress</td>\n",
       "      <td>Brooks Atkinson</td>\n",
       "      <td>Musical</td>\n",
       "      <td>8332</td>\n",
       "      <td>100</td>\n",
       "      <td>1071704</td>\n",
       "      <td>105</td>\n",
       "      <td>8</td>\n",
       "    </tr>\n",
       "    <tr>\n",
       "      <th>29165</th>\n",
       "      <td>7</td>\n",
       "      <td>8/7/2016</td>\n",
       "      <td>8</td>\n",
       "      <td>2016</td>\n",
       "      <td>The Lion King</td>\n",
       "      <td>Minskoff</td>\n",
       "      <td>Musical</td>\n",
       "      <td>13558</td>\n",
       "      <td>100</td>\n",
       "      <td>2292428</td>\n",
       "      <td>97</td>\n",
       "      <td>8</td>\n",
       "    </tr>\n",
       "    <tr>\n",
       "      <th>29166</th>\n",
       "      <td>14</td>\n",
       "      <td>8/14/2016</td>\n",
       "      <td>8</td>\n",
       "      <td>2016</td>\n",
       "      <td>Les Miserables '14</td>\n",
       "      <td>Imperial</td>\n",
       "      <td>Musical</td>\n",
       "      <td>11244</td>\n",
       "      <td>100</td>\n",
       "      <td>1035397</td>\n",
       "      <td>88</td>\n",
       "      <td>8</td>\n",
       "    </tr>\n",
       "  </tbody>\n",
       "</table>\n",
       "</div>"
      ],
      "text/plain": [
       "       Date.Day  Date.Full  Date.Month  Date.Year            Show.Name  \\\n",
       "29159        26  6/26/2016           6       2016  The King And I 2015   \n",
       "29160        26  6/26/2016           6       2016        The Lion King   \n",
       "29161         3   7/3/2016           7       2016        The Lion King   \n",
       "29162         3   7/3/2016           7       2016             Waitress   \n",
       "29163        17  7/17/2016           7       2016             Waitress   \n",
       "29164        24  7/24/2016           7       2016             Waitress   \n",
       "29165         7   8/7/2016           8       2016        The Lion King   \n",
       "29166        14  8/14/2016           8       2016   Les Miserables '14   \n",
       "\n",
       "          Show.Theatre Show.Type  Statistics.Attendance  Statistics.Capacity  \\\n",
       "29159  Vivian Beaumont   Musical                   8370                  100   \n",
       "29160         Minskoff   Musical                  13570                  100   \n",
       "29161         Minskoff   Musical                  13573                  100   \n",
       "29162  Brooks Atkinson   Musical                   8324                  100   \n",
       "29163  Brooks Atkinson   Musical                   8360                  100   \n",
       "29164  Brooks Atkinson   Musical                   8332                  100   \n",
       "29165         Minskoff   Musical                  13558                  100   \n",
       "29166         Imperial   Musical                  11244                  100   \n",
       "\n",
       "       Statistics.Gross  Statistics.Gross Potential  Statistics.Performances  \n",
       "29159            840824                          73                        8  \n",
       "29160           2113062                         100                        8  \n",
       "29161           2164298                         101                        8  \n",
       "29162           1010938                          99                        8  \n",
       "29163           1068393                         105                        8  \n",
       "29164           1071704                         105                        8  \n",
       "29165           2292428                          97                        8  \n",
       "29166           1035397                          88                        8  "
      ]
     },
     "execution_count": 4,
     "metadata": {},
     "output_type": "execute_result"
    }
   ],
   "source": [
    "# TODO: Get the last 8 rows \n",
    "shows.tail(8)"
   ]
  },
  {
   "cell_type": "code",
   "execution_count": 5,
   "metadata": {},
   "outputs": [
    {
     "data": {
      "text/html": [
       "<div>\n",
       "<style scoped>\n",
       "    .dataframe tbody tr th:only-of-type {\n",
       "        vertical-align: middle;\n",
       "    }\n",
       "\n",
       "    .dataframe tbody tr th {\n",
       "        vertical-align: top;\n",
       "    }\n",
       "\n",
       "    .dataframe thead th {\n",
       "        text-align: right;\n",
       "    }\n",
       "</style>\n",
       "<table border=\"1\" class=\"dataframe\">\n",
       "  <thead>\n",
       "    <tr style=\"text-align: right;\">\n",
       "      <th></th>\n",
       "      <th>Date.Day</th>\n",
       "      <th>Date.Month</th>\n",
       "      <th>Date.Year</th>\n",
       "      <th>Statistics.Attendance</th>\n",
       "      <th>Statistics.Capacity</th>\n",
       "      <th>Statistics.Gross</th>\n",
       "      <th>Statistics.Gross Potential</th>\n",
       "      <th>Statistics.Performances</th>\n",
       "    </tr>\n",
       "  </thead>\n",
       "  <tbody>\n",
       "    <tr>\n",
       "      <th>count</th>\n",
       "      <td>29167.000000</td>\n",
       "      <td>29167.000000</td>\n",
       "      <td>29167.000000</td>\n",
       "      <td>29167.000000</td>\n",
       "      <td>29167.000000</td>\n",
       "      <td>2.916700e+04</td>\n",
       "      <td>29167.000000</td>\n",
       "      <td>29167.000000</td>\n",
       "    </tr>\n",
       "    <tr>\n",
       "      <th>mean</th>\n",
       "      <td>15.661810</td>\n",
       "      <td>6.495594</td>\n",
       "      <td>2005.880413</td>\n",
       "      <td>7826.851956</td>\n",
       "      <td>79.073199</td>\n",
       "      <td>5.652896e+05</td>\n",
       "      <td>60.021737</td>\n",
       "      <td>7.193095</td>\n",
       "    </tr>\n",
       "    <tr>\n",
       "      <th>std</th>\n",
       "      <td>8.796249</td>\n",
       "      <td>3.439284</td>\n",
       "      <td>6.043321</td>\n",
       "      <td>3142.484713</td>\n",
       "      <td>15.950002</td>\n",
       "      <td>3.628703e+05</td>\n",
       "      <td>26.669518</td>\n",
       "      <td>2.278224</td>\n",
       "    </tr>\n",
       "    <tr>\n",
       "      <th>min</th>\n",
       "      <td>1.000000</td>\n",
       "      <td>1.000000</td>\n",
       "      <td>1990.000000</td>\n",
       "      <td>73.000000</td>\n",
       "      <td>10.000000</td>\n",
       "      <td>3.668000e+03</td>\n",
       "      <td>0.000000</td>\n",
       "      <td>0.000000</td>\n",
       "    </tr>\n",
       "    <tr>\n",
       "      <th>25%</th>\n",
       "      <td>8.000000</td>\n",
       "      <td>4.000000</td>\n",
       "      <td>2001.000000</td>\n",
       "      <td>5362.000000</td>\n",
       "      <td>69.000000</td>\n",
       "      <td>3.066600e+05</td>\n",
       "      <td>44.000000</td>\n",
       "      <td>8.000000</td>\n",
       "    </tr>\n",
       "    <tr>\n",
       "      <th>50%</th>\n",
       "      <td>16.000000</td>\n",
       "      <td>6.000000</td>\n",
       "      <td>2006.000000</td>\n",
       "      <td>7555.000000</td>\n",
       "      <td>81.000000</td>\n",
       "      <td>4.895880e+05</td>\n",
       "      <td>61.000000</td>\n",
       "      <td>8.000000</td>\n",
       "    </tr>\n",
       "    <tr>\n",
       "      <th>75%</th>\n",
       "      <td>23.000000</td>\n",
       "      <td>10.000000</td>\n",
       "      <td>2011.000000</td>\n",
       "      <td>10160.000000</td>\n",
       "      <td>92.000000</td>\n",
       "      <td>7.331910e+05</td>\n",
       "      <td>78.000000</td>\n",
       "      <td>8.000000</td>\n",
       "    </tr>\n",
       "    <tr>\n",
       "      <th>max</th>\n",
       "      <td>31.000000</td>\n",
       "      <td>12.000000</td>\n",
       "      <td>2016.000000</td>\n",
       "      <td>21631.000000</td>\n",
       "      <td>100.000000</td>\n",
       "      <td>3.201333e+06</td>\n",
       "      <td>226.000000</td>\n",
       "      <td>16.000000</td>\n",
       "    </tr>\n",
       "  </tbody>\n",
       "</table>\n",
       "</div>"
      ],
      "text/plain": [
       "           Date.Day    Date.Month     Date.Year  Statistics.Attendance  \\\n",
       "count  29167.000000  29167.000000  29167.000000           29167.000000   \n",
       "mean      15.661810      6.495594   2005.880413            7826.851956   \n",
       "std        8.796249      3.439284      6.043321            3142.484713   \n",
       "min        1.000000      1.000000   1990.000000              73.000000   \n",
       "25%        8.000000      4.000000   2001.000000            5362.000000   \n",
       "50%       16.000000      6.000000   2006.000000            7555.000000   \n",
       "75%       23.000000     10.000000   2011.000000           10160.000000   \n",
       "max       31.000000     12.000000   2016.000000           21631.000000   \n",
       "\n",
       "       Statistics.Capacity  Statistics.Gross  Statistics.Gross Potential  \\\n",
       "count         29167.000000      2.916700e+04                29167.000000   \n",
       "mean             79.073199      5.652896e+05                   60.021737   \n",
       "std              15.950002      3.628703e+05                   26.669518   \n",
       "min              10.000000      3.668000e+03                    0.000000   \n",
       "25%              69.000000      3.066600e+05                   44.000000   \n",
       "50%              81.000000      4.895880e+05                   61.000000   \n",
       "75%              92.000000      7.331910e+05                   78.000000   \n",
       "max             100.000000      3.201333e+06                  226.000000   \n",
       "\n",
       "       Statistics.Performances  \n",
       "count             29167.000000  \n",
       "mean                  7.193095  \n",
       "std                   2.278224  \n",
       "min                   0.000000  \n",
       "25%                   8.000000  \n",
       "50%                   8.000000  \n",
       "75%                   8.000000  \n",
       "max                  16.000000  "
      ]
     },
     "execution_count": 5,
     "metadata": {},
     "output_type": "execute_result"
    }
   ],
   "source": [
    "# TODO: Generate descriptive statistic summary of the dataset\n",
    "shows.describe()"
   ]
  },
  {
   "cell_type": "code",
   "execution_count": 8,
   "metadata": {},
   "outputs": [
    {
     "data": {
      "text/html": [
       "<div>\n",
       "<style scoped>\n",
       "    .dataframe tbody tr th:only-of-type {\n",
       "        vertical-align: middle;\n",
       "    }\n",
       "\n",
       "    .dataframe tbody tr th {\n",
       "        vertical-align: top;\n",
       "    }\n",
       "\n",
       "    .dataframe thead th {\n",
       "        text-align: right;\n",
       "    }\n",
       "</style>\n",
       "<table border=\"1\" class=\"dataframe\">\n",
       "  <thead>\n",
       "    <tr style=\"text-align: right;\">\n",
       "      <th></th>\n",
       "      <th>Date.Year</th>\n",
       "      <th>Show.Name</th>\n",
       "      <th>Statistics.Gross</th>\n",
       "    </tr>\n",
       "  </thead>\n",
       "  <tbody>\n",
       "    <tr>\n",
       "      <th>0</th>\n",
       "      <td>2004</td>\n",
       "      <td>Marc Salem'S Mind Games</td>\n",
       "      <td>3668</td>\n",
       "    </tr>\n",
       "    <tr>\n",
       "      <th>1</th>\n",
       "      <td>1998</td>\n",
       "      <td>A Mom'S Life</td>\n",
       "      <td>3822</td>\n",
       "    </tr>\n",
       "    <tr>\n",
       "      <th>2</th>\n",
       "      <td>2003</td>\n",
       "      <td>Urban Cowboy</td>\n",
       "      <td>39937</td>\n",
       "    </tr>\n",
       "    <tr>\n",
       "      <th>3</th>\n",
       "      <td>2004</td>\n",
       "      <td>Prymate</td>\n",
       "      <td>37246</td>\n",
       "    </tr>\n",
       "    <tr>\n",
       "      <th>4</th>\n",
       "      <td>2005</td>\n",
       "      <td>Latinologues</td>\n",
       "      <td>31790</td>\n",
       "    </tr>\n",
       "    <tr>\n",
       "      <th>...</th>\n",
       "      <td>...</td>\n",
       "      <td>...</td>\n",
       "      <td>...</td>\n",
       "    </tr>\n",
       "    <tr>\n",
       "      <th>29162</th>\n",
       "      <td>2016</td>\n",
       "      <td>Waitress</td>\n",
       "      <td>1010938</td>\n",
       "    </tr>\n",
       "    <tr>\n",
       "      <th>29163</th>\n",
       "      <td>2016</td>\n",
       "      <td>Waitress</td>\n",
       "      <td>1068393</td>\n",
       "    </tr>\n",
       "    <tr>\n",
       "      <th>29164</th>\n",
       "      <td>2016</td>\n",
       "      <td>Waitress</td>\n",
       "      <td>1071704</td>\n",
       "    </tr>\n",
       "    <tr>\n",
       "      <th>29165</th>\n",
       "      <td>2016</td>\n",
       "      <td>The Lion King</td>\n",
       "      <td>2292428</td>\n",
       "    </tr>\n",
       "    <tr>\n",
       "      <th>29166</th>\n",
       "      <td>2016</td>\n",
       "      <td>Les Miserables '14</td>\n",
       "      <td>1035397</td>\n",
       "    </tr>\n",
       "  </tbody>\n",
       "</table>\n",
       "<p>29167 rows × 3 columns</p>\n",
       "</div>"
      ],
      "text/plain": [
       "       Date.Year                Show.Name  Statistics.Gross\n",
       "0           2004  Marc Salem'S Mind Games              3668\n",
       "1           1998             A Mom'S Life              3822\n",
       "2           2003             Urban Cowboy             39937\n",
       "3           2004                  Prymate             37246\n",
       "4           2005             Latinologues             31790\n",
       "...          ...                      ...               ...\n",
       "29162       2016                 Waitress           1010938\n",
       "29163       2016                 Waitress           1068393\n",
       "29164       2016                 Waitress           1071704\n",
       "29165       2016            The Lion King           2292428\n",
       "29166       2016       Les Miserables '14           1035397\n",
       "\n",
       "[29167 rows x 3 columns]"
      ]
     },
     "execution_count": 8,
     "metadata": {},
     "output_type": "execute_result"
    }
   ],
   "source": [
    "# TODO: Select only the year, show name, and gross revenue columns\n",
    "shows[['Date.Year', 'Show.Name', 'Statistics.Gross']]"
   ]
  },
  {
   "cell_type": "code",
   "execution_count": 12,
   "metadata": {},
   "outputs": [
    {
     "data": {
      "text/html": [
       "<div>\n",
       "<style scoped>\n",
       "    .dataframe tbody tr th:only-of-type {\n",
       "        vertical-align: middle;\n",
       "    }\n",
       "\n",
       "    .dataframe tbody tr th {\n",
       "        vertical-align: top;\n",
       "    }\n",
       "\n",
       "    .dataframe thead th {\n",
       "        text-align: right;\n",
       "    }\n",
       "</style>\n",
       "<table border=\"1\" class=\"dataframe\">\n",
       "  <thead>\n",
       "    <tr style=\"text-align: right;\">\n",
       "      <th></th>\n",
       "      <th>Date.Day</th>\n",
       "      <th>Date.Full</th>\n",
       "      <th>Date.Month</th>\n",
       "      <th>Date.Year</th>\n",
       "      <th>Show.Name</th>\n",
       "      <th>Show.Theatre</th>\n",
       "      <th>Show.Type</th>\n",
       "      <th>Statistics.Attendance</th>\n",
       "      <th>Statistics.Capacity</th>\n",
       "      <th>Statistics.Gross</th>\n",
       "      <th>Statistics.Gross Potential</th>\n",
       "      <th>Statistics.Performances</th>\n",
       "    </tr>\n",
       "  </thead>\n",
       "  <tbody>\n",
       "    <tr>\n",
       "      <th>1595</th>\n",
       "      <td>27</td>\n",
       "      <td>11/27/1994</td>\n",
       "      <td>11</td>\n",
       "      <td>1994</td>\n",
       "      <td>The Shadow Box</td>\n",
       "      <td>Circle In The Square</td>\n",
       "      <td>Play</td>\n",
       "      <td>2933</td>\n",
       "      <td>51</td>\n",
       "      <td>75918</td>\n",
       "      <td>34</td>\n",
       "      <td>8</td>\n",
       "    </tr>\n",
       "    <tr>\n",
       "      <th>1596</th>\n",
       "      <td>9</td>\n",
       "      <td>7/9/1995</td>\n",
       "      <td>7</td>\n",
       "      <td>1995</td>\n",
       "      <td>Arcadia</td>\n",
       "      <td>Vivian Beaumont</td>\n",
       "      <td>Play</td>\n",
       "      <td>4367</td>\n",
       "      <td>51</td>\n",
       "      <td>160324</td>\n",
       "      <td>46</td>\n",
       "      <td>8</td>\n",
       "    </tr>\n",
       "    <tr>\n",
       "      <th>1597</th>\n",
       "      <td>28</td>\n",
       "      <td>4/28/1996</td>\n",
       "      <td>4</td>\n",
       "      <td>1996</td>\n",
       "      <td>A Midsummer Night'S Dream</td>\n",
       "      <td>Lunt-Fontanne</td>\n",
       "      <td>Play</td>\n",
       "      <td>5936</td>\n",
       "      <td>51</td>\n",
       "      <td>276763</td>\n",
       "      <td>47</td>\n",
       "      <td>8</td>\n",
       "    </tr>\n",
       "    <tr>\n",
       "      <th>1598</th>\n",
       "      <td>28</td>\n",
       "      <td>4/28/1996</td>\n",
       "      <td>4</td>\n",
       "      <td>1996</td>\n",
       "      <td>An Ideal Husband</td>\n",
       "      <td>Ethel Barrymore</td>\n",
       "      <td>Play</td>\n",
       "      <td>2810</td>\n",
       "      <td>51</td>\n",
       "      <td>76744</td>\n",
       "      <td>19</td>\n",
       "      <td>0</td>\n",
       "    </tr>\n",
       "    <tr>\n",
       "      <th>1599</th>\n",
       "      <td>5</td>\n",
       "      <td>5/5/1996</td>\n",
       "      <td>5</td>\n",
       "      <td>1996</td>\n",
       "      <td>A Midsummer Night'S Dream</td>\n",
       "      <td>Lunt-Fontanne</td>\n",
       "      <td>Play</td>\n",
       "      <td>5891</td>\n",
       "      <td>51</td>\n",
       "      <td>239147</td>\n",
       "      <td>40</td>\n",
       "      <td>8</td>\n",
       "    </tr>\n",
       "    <tr>\n",
       "      <th>...</th>\n",
       "      <td>...</td>\n",
       "      <td>...</td>\n",
       "      <td>...</td>\n",
       "      <td>...</td>\n",
       "      <td>...</td>\n",
       "      <td>...</td>\n",
       "      <td>...</td>\n",
       "      <td>...</td>\n",
       "      <td>...</td>\n",
       "      <td>...</td>\n",
       "      <td>...</td>\n",
       "      <td>...</td>\n",
       "    </tr>\n",
       "    <tr>\n",
       "      <th>29162</th>\n",
       "      <td>3</td>\n",
       "      <td>7/3/2016</td>\n",
       "      <td>7</td>\n",
       "      <td>2016</td>\n",
       "      <td>Waitress</td>\n",
       "      <td>Brooks Atkinson</td>\n",
       "      <td>Musical</td>\n",
       "      <td>8324</td>\n",
       "      <td>100</td>\n",
       "      <td>1010938</td>\n",
       "      <td>99</td>\n",
       "      <td>8</td>\n",
       "    </tr>\n",
       "    <tr>\n",
       "      <th>29163</th>\n",
       "      <td>17</td>\n",
       "      <td>7/17/2016</td>\n",
       "      <td>7</td>\n",
       "      <td>2016</td>\n",
       "      <td>Waitress</td>\n",
       "      <td>Brooks Atkinson</td>\n",
       "      <td>Musical</td>\n",
       "      <td>8360</td>\n",
       "      <td>100</td>\n",
       "      <td>1068393</td>\n",
       "      <td>105</td>\n",
       "      <td>8</td>\n",
       "    </tr>\n",
       "    <tr>\n",
       "      <th>29164</th>\n",
       "      <td>24</td>\n",
       "      <td>7/24/2016</td>\n",
       "      <td>7</td>\n",
       "      <td>2016</td>\n",
       "      <td>Waitress</td>\n",
       "      <td>Brooks Atkinson</td>\n",
       "      <td>Musical</td>\n",
       "      <td>8332</td>\n",
       "      <td>100</td>\n",
       "      <td>1071704</td>\n",
       "      <td>105</td>\n",
       "      <td>8</td>\n",
       "    </tr>\n",
       "    <tr>\n",
       "      <th>29165</th>\n",
       "      <td>7</td>\n",
       "      <td>8/7/2016</td>\n",
       "      <td>8</td>\n",
       "      <td>2016</td>\n",
       "      <td>The Lion King</td>\n",
       "      <td>Minskoff</td>\n",
       "      <td>Musical</td>\n",
       "      <td>13558</td>\n",
       "      <td>100</td>\n",
       "      <td>2292428</td>\n",
       "      <td>97</td>\n",
       "      <td>8</td>\n",
       "    </tr>\n",
       "    <tr>\n",
       "      <th>29166</th>\n",
       "      <td>14</td>\n",
       "      <td>8/14/2016</td>\n",
       "      <td>8</td>\n",
       "      <td>2016</td>\n",
       "      <td>Les Miserables '14</td>\n",
       "      <td>Imperial</td>\n",
       "      <td>Musical</td>\n",
       "      <td>11244</td>\n",
       "      <td>100</td>\n",
       "      <td>1035397</td>\n",
       "      <td>88</td>\n",
       "      <td>8</td>\n",
       "    </tr>\n",
       "  </tbody>\n",
       "</table>\n",
       "<p>27572 rows × 12 columns</p>\n",
       "</div>"
      ],
      "text/plain": [
       "       Date.Day   Date.Full  Date.Month  Date.Year                  Show.Name  \\\n",
       "1595         27  11/27/1994          11       1994             The Shadow Box   \n",
       "1596          9    7/9/1995           7       1995                    Arcadia   \n",
       "1597         28   4/28/1996           4       1996  A Midsummer Night'S Dream   \n",
       "1598         28   4/28/1996           4       1996           An Ideal Husband   \n",
       "1599          5    5/5/1996           5       1996  A Midsummer Night'S Dream   \n",
       "...         ...         ...         ...        ...                        ...   \n",
       "29162         3    7/3/2016           7       2016                   Waitress   \n",
       "29163        17   7/17/2016           7       2016                   Waitress   \n",
       "29164        24   7/24/2016           7       2016                   Waitress   \n",
       "29165         7    8/7/2016           8       2016              The Lion King   \n",
       "29166        14   8/14/2016           8       2016         Les Miserables '14   \n",
       "\n",
       "               Show.Theatre Show.Type  Statistics.Attendance  \\\n",
       "1595   Circle In The Square      Play                   2933   \n",
       "1596        Vivian Beaumont      Play                   4367   \n",
       "1597          Lunt-Fontanne      Play                   5936   \n",
       "1598        Ethel Barrymore      Play                   2810   \n",
       "1599          Lunt-Fontanne      Play                   5891   \n",
       "...                     ...       ...                    ...   \n",
       "29162       Brooks Atkinson   Musical                   8324   \n",
       "29163       Brooks Atkinson   Musical                   8360   \n",
       "29164       Brooks Atkinson   Musical                   8332   \n",
       "29165              Minskoff   Musical                  13558   \n",
       "29166              Imperial   Musical                  11244   \n",
       "\n",
       "       Statistics.Capacity  Statistics.Gross  Statistics.Gross Potential  \\\n",
       "1595                    51             75918                          34   \n",
       "1596                    51            160324                          46   \n",
       "1597                    51            276763                          47   \n",
       "1598                    51             76744                          19   \n",
       "1599                    51            239147                          40   \n",
       "...                    ...               ...                         ...   \n",
       "29162                  100           1010938                          99   \n",
       "29163                  100           1068393                         105   \n",
       "29164                  100           1071704                         105   \n",
       "29165                  100           2292428                          97   \n",
       "29166                  100           1035397                          88   \n",
       "\n",
       "       Statistics.Performances  \n",
       "1595                         8  \n",
       "1596                         8  \n",
       "1597                         8  \n",
       "1598                         0  \n",
       "1599                         8  \n",
       "...                        ...  \n",
       "29162                        8  \n",
       "29163                        8  \n",
       "29164                        8  \n",
       "29165                        8  \n",
       "29166                        8  \n",
       "\n",
       "[27572 rows x 12 columns]"
      ]
     },
     "execution_count": 12,
     "metadata": {},
     "output_type": "execute_result"
    }
   ],
   "source": [
    "# TODO: Select only rows with filled capacity of 50% or more\n",
    "shows[shows['Statistics.Capacity'] > 50]"
   ]
  },
  {
   "cell_type": "code",
   "execution_count": 23,
   "metadata": {},
   "outputs": [
    {
     "data": {
      "text/plain": [
       "Show.Name\n",
       "The Phantom Of The Opera                      995\n",
       "Chicago                                       958\n",
       "Wicked                                        669\n",
       "Beauty And The Beast                          663\n",
       "The Lion King                                 660\n",
       "Mamma Mia!                                    619\n",
       "Rent                                          504\n",
       "Jersey Boys                                   433\n",
       "Miss Saigon                                   430\n",
       "Les Miserables                                364\n",
       "Mary Poppins                                  324\n",
       "Avenue Q                                      321\n",
       "Cabaret 98                                    304\n",
       "Rock Of Ages                                  295\n",
       "Hairspray                                     280\n",
       "The Producers                                 268\n",
       "Smokey Joe'S Cafe                             256\n",
       "Cats                                          250\n",
       "Aida                                          233\n",
       "Jekyll & Hyde                                 199\n",
       "42Nd Street '01                               193\n",
       "Billy Elliot: The Musical                     171\n",
       "Movin' Out                                    166\n",
       "Matilda                                       158\n",
       "Kinky Boots                                   157\n",
       "Spider-Man Turn Off The Dark                  157\n",
       "In The Heights                                150\n",
       "Memphis                                       150\n",
       "Monty Python'S Spamalot                       149\n",
       "Once                                          137\n",
       "Annie Get Your Gun                            135\n",
       "Contact                                       131\n",
       "South Pacific                                 130\n",
       "The 25Th Annual Putnam County Spelling Bee    129\n",
       "Les Miserables '14                            129\n",
       "Aladdin                                       129\n",
       "Beautiful                                     127\n",
       "Fosse                                         126\n",
       "Urinetown                                     125\n",
       "The Color Purple                              119\n",
       "Name: count, dtype: int64"
      ]
     },
     "execution_count": 23,
     "metadata": {},
     "output_type": "execute_result"
    }
   ],
   "source": [
    "# What are some of the unique show names?\n",
    "shows['Show.Name'].value_counts().head(40)"
   ]
  },
  {
   "cell_type": "markdown",
   "metadata": {
    "id": "2X36_xTH7syZ"
   },
   "source": [
    "We are now ready to use the Broadway Shows dataset to do some data visualisations."
   ]
  },
  {
   "cell_type": "markdown",
   "metadata": {
    "id": "ojvXgRg77syc"
   },
   "source": [
    "# Introduction to Matplotlib\n",
    "\n",
    "Matplotlib is a Python plotting library that produces high-quality figures in a variety of formats and across platforms. \n",
    "\n",
    "Matplotlib graphs your data on __Figures__ (i.e., windows, Jupyter widgets, etc.), each of which can contain one or more Axes (i.e., an area where points can be specified in terms of x-y coordinates (or theta-r in a polar plot, or x-y-z in a 3D plot, etc.). \n",
    "\n",
    "Let us look at what makes up a Matplotlib Figure to get familiar with the terms.\n",
    "\n",
    "<img src = \"https://matplotlib.org/_images/anatomy.png\" width=\"600\"/>"
   ]
  },
  {
   "cell_type": "markdown",
   "metadata": {
    "id": "lL1xMm_97syd"
   },
   "source": [
    "## Introduction to Pyplot\n",
    "\n",
    "The easiest way to create a new Figure is with pyplot. ```matplotlib.pyplot``` provides a collection of functions to work with a Figure, e.g. creating a Figure, creating a plotting area in a Figure, plotting lines, etc. \n",
    "\n",
    "For Jupyter notebooks, we set ```%matplotlib inline``` magic to output the plotting commands inline in our notebooks."
   ]
  },
  {
   "cell_type": "code",
   "execution_count": 24,
   "metadata": {
    "id": "ywE0zBHS7sye"
   },
   "outputs": [],
   "source": [
    "%matplotlib inline\n",
    "import matplotlib.pyplot as plt"
   ]
  },
  {
   "cell_type": "markdown",
   "metadata": {
    "id": "6ZxzBqaHs0PZ"
   },
   "source": [
    "## Basic Plot\n",
    "\n",
    "Before we work with our dataset, let's get a feel of building a basic plot and setting the Figure components. \n",
    "\n",
    "As the following code shows, we can create several plots on the same graph. A line plot is created using `pyplot.plot` and a scatter plot is created using `pyplot.scatter`.\n",
    "\n",
    "__EXERCISE:__\n",
    "\n",
    "Explore the API references for [`pyplot.plot`](https://matplotlib.org/stable/api/_as_gen/matplotlib.pyplot.plot.html) and [`pyplot.scatter`](https://matplotlib.org/stable/api/_as_gen/matplotlib.pyplot.scatter.html) to complete the `TODO` tasks below."
   ]
  },
  {
   "cell_type": "code",
   "execution_count": 74,
   "metadata": {
    "id": "Of9Sefetszor"
   },
   "outputs": [
    {
     "data": {
      "image/png": "[encoded data removed]",
      "text/plain": [
       "<Figure size 640x480 with 1 Axes>"
      ]
     },
     "metadata": {},
     "output_type": "display_data"
    }
   ],
   "source": [
    "import numpy as np\n",
    "\n",
    "# Generate 100 evenly spaced samples, calculated over the interval [0, 10].\n",
    "x = np.linspace( 0, 10, 100 )  \n",
    "\n",
    "# Create a line plot of sin(x) against x, and label it\n",
    "plt.plot( x, np.sin(x), label=\"sin(x)\" ) \n",
    "\n",
    "# TODO: Create a line plot of cos(x) against x, and label it\n",
    "plt.plot(x, np.cos(x), label='cos(x)')\n",
    "\n",
    "# Create a scatter plot of (x^2 / 100) against x using blue diamond markers, and label it\n",
    "plt.scatter( x, x*x/100, c=\"Turquoise\", marker=\"D\", label=\"x^2 / 100\" )\n",
    "\n",
    "# TODO: Create a scatter plot of (x * 0.07) against x using red '+' markers, and label it\n",
    "plt.scatter(x, x * 0.07, c=\"Red\", marker=\"+\", label=\"x*0.07\")\n",
    "# Create a legend \n",
    "plt.legend() \n",
    "\n",
    "# Label the y and x axes\n",
    "plt.ylabel( \"Y\" )\n",
    "plt.xlabel( \"X\" )\n",
    "\n",
    "# Configures grid lines to be visible\n",
    "plt.grid( visible = True ) \n",
    "\n",
    "# Display the plot\n",
    "plt.show()"
   ]
  },
  {
   "cell_type": "code",
   "execution_count": 67,
   "metadata": {},
   "outputs": [
    {
     "data": {
      "text/plain": [
       "<matplotlib.collections.PathCollection at 0x162a02890>"
      ]
     },
     "execution_count": 67,
     "metadata": {},
     "output_type": "execute_result"
    },
    {
     "data": {
      "image/png": "[encoded data removed]",
      "text/plain": [
       "<Figure size 640x480 with 1 Axes>"
      ]
     },
     "metadata": {},
     "output_type": "display_data"
    }
   ],
   "source": [
    "plt.scatter(x, x**2/100)"
   ]
  },
  {
   "cell_type": "markdown",
   "metadata": {
    "id": "agqJyOmt7syf"
   },
   "source": [
    "Let us now create visualizations for the Broadway Shows dataset. \n",
    "\n",
    "### Line Plot\n",
    "\n",
    "Line plots are useful to explore trends in the dataset. Let's try to see how the different variables change over the months in a year. \n",
    "\n",
    "To do this, we first aggregate the data by month."
   ]
  },
  {
   "cell_type": "code",
   "execution_count": 75,
   "metadata": {
    "id": "5CRfOL3k7syg"
   },
   "outputs": [
    {
     "data": {
      "text/html": [
       "<div>\n",
       "<style scoped>\n",
       "    .dataframe tbody tr th:only-of-type {\n",
       "        vertical-align: middle;\n",
       "    }\n",
       "\n",
       "    .dataframe tbody tr th {\n",
       "        vertical-align: top;\n",
       "    }\n",
       "\n",
       "    .dataframe thead th {\n",
       "        text-align: right;\n",
       "    }\n",
       "</style>\n",
       "<table border=\"1\" class=\"dataframe\">\n",
       "  <thead>\n",
       "    <tr style=\"text-align: right;\">\n",
       "      <th></th>\n",
       "      <th>Date.Day</th>\n",
       "      <th>Date.Year</th>\n",
       "      <th>Statistics.Attendance</th>\n",
       "      <th>Statistics.Capacity</th>\n",
       "      <th>Statistics.Gross</th>\n",
       "      <th>Statistics.Gross Potential</th>\n",
       "      <th>Statistics.Performances</th>\n",
       "    </tr>\n",
       "    <tr>\n",
       "      <th>Date.Month</th>\n",
       "      <th></th>\n",
       "      <th></th>\n",
       "      <th></th>\n",
       "      <th></th>\n",
       "      <th></th>\n",
       "      <th></th>\n",
       "      <th></th>\n",
       "    </tr>\n",
       "  </thead>\n",
       "  <tbody>\n",
       "    <tr>\n",
       "      <th>1</th>\n",
       "      <td>15.587232</td>\n",
       "      <td>2006.526454</td>\n",
       "      <td>7995.206384</td>\n",
       "      <td>80.214254</td>\n",
       "      <td>596403.942282</td>\n",
       "      <td>62.442501</td>\n",
       "      <td>7.492348</td>\n",
       "    </tr>\n",
       "    <tr>\n",
       "      <th>2</th>\n",
       "      <td>14.648952</td>\n",
       "      <td>2006.214529</td>\n",
       "      <td>7671.932716</td>\n",
       "      <td>78.342272</td>\n",
       "      <td>536186.851780</td>\n",
       "      <td>58.110678</td>\n",
       "      <td>7.173086</td>\n",
       "    </tr>\n",
       "    <tr>\n",
       "      <th>3</th>\n",
       "      <td>16.337887</td>\n",
       "      <td>2006.220571</td>\n",
       "      <td>7752.380474</td>\n",
       "      <td>80.725994</td>\n",
       "      <td>538601.139815</td>\n",
       "      <td>58.366814</td>\n",
       "      <td>6.402170</td>\n",
       "    </tr>\n",
       "    <tr>\n",
       "      <th>4</th>\n",
       "      <td>15.657013</td>\n",
       "      <td>2006.083043</td>\n",
       "      <td>7679.646895</td>\n",
       "      <td>79.139916</td>\n",
       "      <td>535990.900907</td>\n",
       "      <td>58.241452</td>\n",
       "      <td>6.382066</td>\n",
       "    </tr>\n",
       "    <tr>\n",
       "      <th>5</th>\n",
       "      <td>15.623420</td>\n",
       "      <td>2006.104458</td>\n",
       "      <td>7595.654358</td>\n",
       "      <td>77.258483</td>\n",
       "      <td>536117.202595</td>\n",
       "      <td>57.754824</td>\n",
       "      <td>7.755489</td>\n",
       "    </tr>\n",
       "    <tr>\n",
       "      <th>6</th>\n",
       "      <td>14.933058</td>\n",
       "      <td>2005.767582</td>\n",
       "      <td>7830.039489</td>\n",
       "      <td>78.955622</td>\n",
       "      <td>561640.775103</td>\n",
       "      <td>59.813464</td>\n",
       "      <td>7.786010</td>\n",
       "    </tr>\n",
       "    <tr>\n",
       "      <th>7</th>\n",
       "      <td>15.723030</td>\n",
       "      <td>2005.936151</td>\n",
       "      <td>8424.386614</td>\n",
       "      <td>82.256275</td>\n",
       "      <td>616916.625716</td>\n",
       "      <td>63.545134</td>\n",
       "      <td>7.664905</td>\n",
       "    </tr>\n",
       "    <tr>\n",
       "      <th>8</th>\n",
       "      <td>15.704973</td>\n",
       "      <td>2005.583776</td>\n",
       "      <td>8558.758088</td>\n",
       "      <td>82.907774</td>\n",
       "      <td>632495.183969</td>\n",
       "      <td>65.670690</td>\n",
       "      <td>7.713182</td>\n",
       "    </tr>\n",
       "    <tr>\n",
       "      <th>9</th>\n",
       "      <td>15.933019</td>\n",
       "      <td>2005.415489</td>\n",
       "      <td>7749.560440</td>\n",
       "      <td>76.374673</td>\n",
       "      <td>552016.927786</td>\n",
       "      <td>56.500262</td>\n",
       "      <td>7.211408</td>\n",
       "    </tr>\n",
       "    <tr>\n",
       "      <th>10</th>\n",
       "      <td>16.498238</td>\n",
       "      <td>2005.498678</td>\n",
       "      <td>7978.218943</td>\n",
       "      <td>81.064317</td>\n",
       "      <td>565959.250220</td>\n",
       "      <td>61.092511</td>\n",
       "      <td>6.550220</td>\n",
       "    </tr>\n",
       "    <tr>\n",
       "      <th>11</th>\n",
       "      <td>15.541809</td>\n",
       "      <td>2005.625804</td>\n",
       "      <td>7334.402573</td>\n",
       "      <td>75.973137</td>\n",
       "      <td>534919.015134</td>\n",
       "      <td>58.230798</td>\n",
       "      <td>6.794552</td>\n",
       "    </tr>\n",
       "    <tr>\n",
       "      <th>12</th>\n",
       "      <td>15.776769</td>\n",
       "      <td>2005.483920</td>\n",
       "      <td>7622.286039</td>\n",
       "      <td>76.807794</td>\n",
       "      <td>597075.543700</td>\n",
       "      <td>61.650397</td>\n",
       "      <td>7.462353</td>\n",
       "    </tr>\n",
       "  </tbody>\n",
       "</table>\n",
       "</div>"
      ],
      "text/plain": [
       "             Date.Day    Date.Year  Statistics.Attendance  \\\n",
       "Date.Month                                                  \n",
       "1           15.587232  2006.526454            7995.206384   \n",
       "2           14.648952  2006.214529            7671.932716   \n",
       "3           16.337887  2006.220571            7752.380474   \n",
       "4           15.657013  2006.083043            7679.646895   \n",
       "5           15.623420  2006.104458            7595.654358   \n",
       "6           14.933058  2005.767582            7830.039489   \n",
       "7           15.723030  2005.936151            8424.386614   \n",
       "8           15.704973  2005.583776            8558.758088   \n",
       "9           15.933019  2005.415489            7749.560440   \n",
       "10          16.498238  2005.498678            7978.218943   \n",
       "11          15.541809  2005.625804            7334.402573   \n",
       "12          15.776769  2005.483920            7622.286039   \n",
       "\n",
       "            Statistics.Capacity  Statistics.Gross  Statistics.Gross Potential  \\\n",
       "Date.Month                                                                      \n",
       "1                     80.214254     596403.942282                   62.442501   \n",
       "2                     78.342272     536186.851780                   58.110678   \n",
       "3                     80.725994     538601.139815                   58.366814   \n",
       "4                     79.139916     535990.900907                   58.241452   \n",
       "5                     77.258483     536117.202595                   57.754824   \n",
       "6                     78.955622     561640.775103                   59.813464   \n",
       "7                     82.256275     616916.625716                   63.545134   \n",
       "8                     82.907774     632495.183969                   65.670690   \n",
       "9                     76.374673     552016.927786                   56.500262   \n",
       "10                    81.064317     565959.250220                   61.092511   \n",
       "11                    75.973137     534919.015134                   58.230798   \n",
       "12                    76.807794     597075.543700                   61.650397   \n",
       "\n",
       "            Statistics.Performances  \n",
       "Date.Month                           \n",
       "1                          7.492348  \n",
       "2                          7.173086  \n",
       "3                          6.402170  \n",
       "4                          6.382066  \n",
       "5                          7.755489  \n",
       "6                          7.786010  \n",
       "7                          7.664905  \n",
       "8                          7.713182  \n",
       "9                          7.211408  \n",
       "10                         6.550220  \n",
       "11                         6.794552  \n",
       "12                         7.462353  "
      ]
     },
     "execution_count": 75,
     "metadata": {},
     "output_type": "execute_result"
    }
   ],
   "source": [
    "# Aggregate using the mean function, for all variables with numeric values\n",
    "showsByMonth = shows.groupby( \"Date.Month\", sort=True ).mean( numeric_only=True )\n",
    "showsByMonth"
   ]
  },
  {
   "cell_type": "markdown",
   "metadata": {},
   "source": [
    "Let's plot the mean attendance numbers over the months."
   ]
  },
  {
   "cell_type": "code",
   "execution_count": 87,
   "metadata": {
    "id": "3vlftmnX7syh"
   },
   "outputs": [
    {
     "data": {
      "image/png": "[encoded data removed]",
      "text/plain": [
       "<Figure size 640x480 with 1 Axes>"
      ]
     },
     "metadata": {},
     "output_type": "display_data"
    }
   ],
   "source": [
    "plt.plot( showsByMonth.index, showsByMonth['Statistics.Attendance'].values )\n",
    "\n",
    "plt.xlabel( 'Month')\n",
    "plt.ylabel( 'Mean Attendance' )\n",
    "plt.show()"
   ]
  },
  {
   "cell_type": "markdown",
   "metadata": {
    "id": "v3skr-tM7syh"
   },
   "source": [
    "The plot suggests that the mean attendance of Broadway shows goes higher around summer months, which is reasonable.\n",
    "\n",
    "__EXERCISE:__\n",
    "\n",
    "Plot the mean gross revenue of shows grouped by year. Do you see any interesting trend of the gross revenue over the years? \n",
    "\n",
    "Is there any caveat when interpreting revenue data in real life?"
   ]
  },
  {
   "cell_type": "code",
   "execution_count": 83,
   "metadata": {},
   "outputs": [],
   "source": [
    "# TODO: Plot the average gross revenue of shows grouped by year\n",
    "yearly = shows.groupby('Date.Year', sort=True ).mean(numeric_only=True)"
   ]
  },
  {
   "cell_type": "code",
   "execution_count": 86,
   "metadata": {},
   "outputs": [
    {
     "data": {
      "image/png": "[encoded data removed]",
      "text/plain": [
       "<Figure size 640x480 with 1 Axes>"
      ]
     },
     "metadata": {},
     "output_type": "display_data"
    }
   ],
   "source": [
    "plt.plot(yearly.index, yearly['Statistics.Gross'])\n",
    "\n",
    "plt.xlabel('Year')\n",
    "plt.ylabel('Gross Revenue')\n",
    "plt.show()"
   ]
  },
  {
   "cell_type": "markdown",
   "metadata": {
    "id": "v3skr-tM7syh"
   },
   "source": [
    "### Scatter Plot\n",
    "\n",
    "Scatter plots are useful for observing the relationship between two variables. For example, we can use it to see how the gross revenue changes when the attendance numbers changes.\n",
    "\n",
    "Here, we use `pyplot.subplots` to give us a way to plot multiple plots on a single figure, which will come into play later."
   ]
  },
  {
   "cell_type": "code",
   "execution_count": 88,
   "metadata": {
    "id": "kv58rGdMK-ai"
   },
   "outputs": [
    {
     "data": {
      "image/png": "[encoded data removed]",
      "text/plain": [
       "<Figure size 640x480 with 1 Axes>"
      ]
     },
     "metadata": {},
     "output_type": "display_data"
    }
   ],
   "source": [
    "# subplots is a utility wrapper that makes it convenient to get Figure and Axes objects in a single call\n",
    "fig, ax = plt.subplots()\n",
    "\n",
    "# To better zoom into values, we take only a subset of the dataset, for shows in the years later than 2015\n",
    "showsAfter2015 = shows[shows[\"Date.Year\"] > 2015]\n",
    "\n",
    "# Create a scatter plot using the Axes.scatter function\n",
    "ax.scatter( 'Statistics.Attendance', 'Statistics.Gross', data=showsAfter2015 ) \n",
    "\n",
    "ax.set_xlabel( 'Attendance' )\n",
    "ax.set_ylabel( 'Gross Revenue' )\n",
    "ax.set_title( 'Revenue vs Attendance for Shows After 2015')\n",
    "\n",
    "ax.legend()\n",
    "ax.grid( True )\n",
    "\n",
    "plt.show()"
   ]
  },
  {
   "cell_type": "markdown",
   "metadata": {
    "id": "keeOXvLZa6fY"
   },
   "source": [
    "### Working with Multiple Plots\n",
    "\n",
    "We can make the graph above more informative, for example, by using colors to differentiate whether the show is a Musical, a Play, or a Special.\n",
    "\n",
    "This can be achieved by essentially creating one scatter plot for each show type, using a different color for each, all placed in a single Figure.\n",
    "\n",
    "__EXERCISE:__\n",
    "\n",
    "Complete the TODO tasks below."
   ]
  },
  {
   "cell_type": "code",
   "execution_count": 91,
   "metadata": {
    "id": "9KPdWqNuatMw"
   },
   "outputs": [
    {
     "data": {
      "image/png": "[encoded data removed]",
      "text/plain": [
       "<Figure size 640x480 with 1 Axes>"
      ]
     },
     "metadata": {},
     "output_type": "display_data"
    }
   ],
   "source": [
    "fig, ax = plt.subplots()\n",
    "\n",
    "# For each subplot, we get the subset of data with the desired show type\n",
    "\n",
    "# Create a blue scatter plot for Musicals\n",
    "ax.scatter( 'Statistics.Attendance', 'Statistics.Gross', c=\"Blue\", label=\"Musical\", data=showsAfter2015[showsAfter2015[\"Show.Type\"]==\"Musical\"] )\n",
    "\n",
    "# TODO: Create a green scatter plot for Plays\n",
    "ax.scatter( 'Statistics.Attendance', 'Statistics.Gross', c=\"Green\", label=\"Play\", data=showsAfter2015[showsAfter2015[\"Show.Type\"]==\"Play\"] )\n",
    "# TODO: Create a red scatter plot for Specials\n",
    "ax.scatter( 'Statistics.Attendance', 'Statistics.Gross', c=\"Red\", label=\"Special\", data=showsAfter2015[showsAfter2015[\"Show.Type\"]==\"Special\"] )\n",
    "# Set title\n",
    "ax.set_title( 'Revenue vs Attendance by Show Type for Shows After 2015')\n",
    "\n",
    "# TODO: Set x label, y label, legend, and grid as before\n",
    "ax.set_xlabel(\"Attendance by type\")\n",
    "ax.set_ylabel(\"Revenue by type\")\n",
    "ax.legend()\n",
    "ax.grid( True )\n",
    "plt.show()"
   ]
  },
  {
   "cell_type": "markdown",
   "metadata": {
    "id": "kIIPdsI0bX_9"
   },
   "source": [
    "What if we have many categories? We can define arrays to map the categories and create the subplots in a loop. The following code uses a loop to create the same graph as the previous code."
   ]
  },
  {
   "cell_type": "code",
   "execution_count": 92,
   "metadata": {
    "id": "kfI26UsD7syi"
   },
   "outputs": [
    {
     "data": {
      "image/png": "[encoded data removed]",
      "text/plain": [
       "<Figure size 640x480 with 1 Axes>"
      ]
     },
     "metadata": {},
     "output_type": "display_data"
    }
   ],
   "source": [
    "fig, ax = plt.subplots()\n",
    "\n",
    "class_map = { \"Musical\":\"Musical\", \"Play\":\"Play\", \"Special\":\"Special\" }\n",
    "colors = { \"Musical\":\"Blue\", \"Play\":\"Green\", \"Special\":\"Red\" }\n",
    "\n",
    "for cls, c in colors.items():\n",
    "    ax.scatter( 'Statistics.Attendance', 'Statistics.Gross', c=c, label=class_map[cls], data=showsAfter2015[showsAfter2015[\"Show.Type\"]==cls] )\n",
    "    \n",
    "ax.set_xlabel( 'Attendance' )\n",
    "ax.set_ylabel( 'Gross Revenue' )\n",
    "ax.set_title( 'Revenue vs Attendance by Show Type for Shows After 2015')\n",
    "\n",
    "ax.legend()\n",
    "ax.grid( True )\n",
    "\n",
    "plt.show()"
   ]
  },
  {
   "cell_type": "markdown",
   "metadata": {},
   "source": [
    "__EXERCISE:__\n",
    "\n",
    "Create scatter subplots to show how the gross revenue changes when the filled capacity changes, for five theatres with the largest number of show runs in the whole dataset. Use a loop to differentiate the theatres by color. \n",
    "\n",
    "How do the theatres differ in terms of capacity-revenue relationship?\n",
    "\n",
    "The following code helps you find out which are the top five theatres."
   ]
  },
  {
   "cell_type": "code",
   "execution_count": 93,
   "metadata": {},
   "outputs": [
    {
     "data": {
      "text/plain": [
       "Show.Theatre\n",
       "Majestic      995\n",
       "Broadway      985\n",
       "Gershwin      979\n",
       "Palace        934\n",
       "Ambassador    921\n",
       "Name: count, dtype: int64"
      ]
     },
     "execution_count": 93,
     "metadata": {},
     "output_type": "execute_result"
    }
   ],
   "source": [
    "shows['Show.Theatre'].value_counts().head()"
   ]
  },
  {
   "cell_type": "code",
   "execution_count": 108,
   "metadata": {},
   "outputs": [],
   "source": [
    "# I mean, what's this that we want to find out? Theatres with the most number of shows - we want to find out whether there's any relationship between filled capacity and revenue. \n",
    "\n",
    "# The hypothesis is this: the higher the filled capacity, the higher the gross revenue. But can we confirm? \n",
    "\n",
    "# What do we need in this case? We need to filter the shows to only include the top 5. Then, I'll plot gross revenue against filled capacity\n",
    "top = shows['Show.Theatre'].value_counts().head()"
   ]
  },
  {
   "cell_type": "code",
   "execution_count": 117,
   "metadata": {},
   "outputs": [
    {
     "data": {
      "text/html": [
       "<div>\n",
       "<style scoped>\n",
       "    .dataframe tbody tr th:only-of-type {\n",
       "        vertical-align: middle;\n",
       "    }\n",
       "\n",
       "    .dataframe tbody tr th {\n",
       "        vertical-align: top;\n",
       "    }\n",
       "\n",
       "    .dataframe thead th {\n",
       "        text-align: right;\n",
       "    }\n",
       "</style>\n",
       "<table border=\"1\" class=\"dataframe\">\n",
       "  <thead>\n",
       "    <tr style=\"text-align: right;\">\n",
       "      <th></th>\n",
       "      <th>Date.Day</th>\n",
       "      <th>Date.Full</th>\n",
       "      <th>Date.Month</th>\n",
       "      <th>Date.Year</th>\n",
       "      <th>Show.Name</th>\n",
       "      <th>Show.Theatre</th>\n",
       "      <th>Show.Type</th>\n",
       "      <th>Statistics.Attendance</th>\n",
       "      <th>Statistics.Capacity</th>\n",
       "      <th>Statistics.Gross</th>\n",
       "      <th>Statistics.Gross Potential</th>\n",
       "      <th>Statistics.Performances</th>\n",
       "    </tr>\n",
       "  </thead>\n",
       "  <tbody>\n",
       "    <tr>\n",
       "      <th>0</th>\n",
       "      <td>3</td>\n",
       "      <td>10/3/2004</td>\n",
       "      <td>10</td>\n",
       "      <td>2004</td>\n",
       "      <td>Marc Salem'S Mind Games</td>\n",
       "      <td>Lyceum</td>\n",
       "      <td>Special</td>\n",
       "      <td>73</td>\n",
       "      <td>10</td>\n",
       "      <td>3668</td>\n",
       "      <td>10</td>\n",
       "      <td>1</td>\n",
       "    </tr>\n",
       "  </tbody>\n",
       "</table>\n",
       "</div>"
      ],
      "text/plain": [
       "   Date.Day  Date.Full  Date.Month  Date.Year                Show.Name  \\\n",
       "0         3  10/3/2004          10       2004  Marc Salem'S Mind Games   \n",
       "\n",
       "  Show.Theatre Show.Type  Statistics.Attendance  Statistics.Capacity  \\\n",
       "0       Lyceum   Special                     73                   10   \n",
       "\n",
       "   Statistics.Gross  Statistics.Gross Potential  Statistics.Performances  \n",
       "0              3668                          10                        1  "
      ]
     },
     "execution_count": 117,
     "metadata": {},
     "output_type": "execute_result"
    }
   ],
   "source": [
    "shows.head(1)"
   ]
  },
  {
   "cell_type": "code",
   "execution_count": 120,
   "metadata": {},
   "outputs": [
    {
     "data": {
      "image/png": "[encoded data removed]",
      "text/plain": [
       "<Figure size 640x480 with 1 Axes>"
      ]
     },
     "metadata": {},
     "output_type": "display_data"
    }
   ],
   "source": [
    "# TODO: Create a color-differentiated scatter plot of revenue vs capacity for the top five theatres\n",
    "colors = {\n",
    "    \"Majestic\": \"Red\", \n",
    "    \"Broadway\": \"Blue\", \n",
    "    \"Gershwin\": \"Yellow\", \n",
    "    \"Palace\": \"Cyan\", \n",
    "    \"Ambassador\": \"Orange\"\n",
    "}\n",
    "topFive = shows[shows['Show.Theatre'].isin(top.index)]\n",
    "fig, ax = plt.subplots()\n",
    "\n",
    "for k, v in colors.items(): \n",
    "    ax.scatter(\"Statistics.Capacity\", \"Statistics.Gross\", c=v, label=k ,data=topFive[topFive[\"Show.Theatre\"] == k])\n",
    "ax.legend()\n",
    "ax.grid(True)\n",
    "plt.show()"
   ]
  },
  {
   "cell_type": "markdown",
   "metadata": {},
   "source": [
    "**What do we observe here?**\n",
    "Generally speaking, the more the filled seat capacity, the higher the revenue (obviously). \n",
    "\n",
    "But there's something more that we're observing. Gershwin seem to have overwhelmingly filled more of their capacity, and for those shows with close to full capacity, Gershwin's gross revenue outperforms the rest. Ambassador seem to have the lowest revenue per filled capacity. \n",
    "\n",
    "Palace is not doing too bad as well - even though they're not filling as much as others, "
   ]
  },
  {
   "cell_type": "markdown",
   "metadata": {
    "id": "PbLgcdSj7syi"
   },
   "source": [
    "### Bar Plot\n",
    "\n",
    "Bar plots are useful to see counts of categorical variables. For instance, we can visualize the distribution of the different show types across all show runs. \n",
    "\n",
    "We first construct the {show type, count of show runs} table."
   ]
  },
  {
   "cell_type": "code",
   "execution_count": 122,
   "metadata": {
    "id": "5EnC2l4x7syi"
   },
   "outputs": [
    {
     "data": {
      "text/plain": [
       "Show.Type\n",
       "Musical    20728\n",
       "Play        8112\n",
       "Special      327\n",
       "Name: count, dtype: int64"
      ]
     },
     "execution_count": 122,
     "metadata": {},
     "output_type": "execute_result"
    }
   ],
   "source": [
    "# Category type is needed here\n",
    "showsByType = shows['Show.Type'].astype( \"category\" )\n",
    "showsByType = showsByType.value_counts()\n",
    "showsByType"
   ]
  },
  {
   "cell_type": "markdown",
   "metadata": {
    "id": "AboenYn07syj"
   },
   "source": [
    "We create a bar plot using the `pyplot.bar` function, specifying the x coordinates (categories) and the height of the bars (values). In our case, the categories are the show types, and the values are the count of show runs.\n",
    "\n",
    "As with other Matplotlib plotting functions, `pyplot.bar` expects numpy arrays as inputs. We will need to convert our pandas data objects to `numpy.array` objects prior to plotting."
   ]
  },
  {
   "cell_type": "code",
   "execution_count": 123,
   "metadata": {
    "id": "zLfmCDW37syj"
   },
   "outputs": [
    {
     "data": {
      "image/png": "[encoded data removed]",
      "text/plain": [
       "<Figure size 640x480 with 1 Axes>"
      ]
     },
     "metadata": {},
     "output_type": "display_data"
    }
   ],
   "source": [
    "import numpy as np\n",
    "\n",
    "# Create a numpy array for the categories\n",
    "cat = np.array( showsByType.index.values )\n",
    "\n",
    "# Convert the count table into a numpy array\n",
    "ht = showsByType.to_numpy()\n",
    "\n",
    "plt.bar( cat, ht )\n",
    "\n",
    "plt.xlabel( \"Show Type\" )\n",
    "plt.ylabel( \"Occurrence of Shows\" )\n",
    "\n",
    "plt.show()"
   ]
  },
  {
   "cell_type": "code",
   "execution_count": 125,
   "metadata": {},
   "outputs": [
    {
     "data": {
      "text/plain": [
       "array([20728,  8112,   327])"
      ]
     },
     "execution_count": 125,
     "metadata": {},
     "output_type": "execute_result"
    }
   ],
   "source": [
    "ht"
   ]
  },
  {
   "cell_type": "markdown",
   "metadata": {},
   "source": [
    "### Stacked Bar Plot\n",
    "\n",
    "We can create a stacked bar plot using `pyplot.subplots`, essentially by drawing a plot on top of another.\n",
    "\n",
    "__EXERCISE:__\n",
    "\n",
    "Follow the logic in [this example from Matplotlib gallery](https://matplotlib.org/stable/gallery/lines_bars_and_markers/bar_stacked.html#sphx-glr-gallery-lines-bars-and-markers-bar-stacked-py) to create a stacked bar plot of show types for two theatres: \"Walter Kerr\" and \"Neil Simon\".\n",
    "\n",
    "The below TODO tasks give you the outline of the steps you will need.\n",
    "\n",
    "The categories remain the same show types, but you will now have two count arrays, one for the \"Walter Kerr\" theatre and one for the \"Neil Simon\" theatre."
   ]
  },
  {
   "cell_type": "markdown",
   "metadata": {},
   "source": [
    "Let's think about what we're doing. We want to find out the proportion of show types for two specific theatres. "
   ]
  },
  {
   "cell_type": "code",
   "execution_count": 137,
   "metadata": {},
   "outputs": [
    {
     "name": "stdout",
     "output_type": "stream",
     "text": [
      "['Play' 'Musical' 'Special'] [532 226  53]\n"
     ]
    }
   ],
   "source": [
    "# TODO: 1. Obtain the subset of the dataset where the theatre is \"Walter Kerr\".\n",
    "wk = shows[shows['Show.Theatre'] == 'Walter Kerr'] \n",
    "# TODO: 2. Construct the {show type, count of show runs} table for this data subset.\n",
    "cat = wk['Show.Type'].value_counts().index.values\n",
    "\n",
    "# TODO: 3. Convert the count table into a numpy array for use.\n",
    "ht = wk['Show.Type'].value_counts().to_numpy()\n",
    "print(cat, ht)"
   ]
  },
  {
   "cell_type": "code",
   "execution_count": 138,
   "metadata": {},
   "outputs": [
    {
     "name": "stdout",
     "output_type": "stream",
     "text": [
      "['Musical' 'Play' 'Special'] [641  41  12]\n"
     ]
    }
   ],
   "source": [
    "# TODO: Repeat the above steps for \"Neil Simon\" theatre.\n",
    "ns = shows[shows['Show.Theatre'] == 'Neil Simon']\n",
    "cat2 = ns['Show.Type'].value_counts().index.values\n",
    "ht2 = ns['Show.Type'].value_counts().to_numpy()\n",
    "print(cat2, ht2)"
   ]
  },
  {
   "cell_type": "code",
   "execution_count": 140,
   "metadata": {},
   "outputs": [
    {
     "data": {
      "text/plain": [
       "<BarContainer object of 3 artists>"
      ]
     },
     "execution_count": 140,
     "metadata": {},
     "output_type": "execute_result"
    },
    {
     "data": {
      "image/png": "[encoded data removed]",
      "text/plain": [
       "<Figure size 640x480 with 1 Axes>"
      ]
     },
     "metadata": {},
     "output_type": "display_data"
    }
   ],
   "source": [
    "# TODO: Modify the Matplotlib example, using the numpy arrays you created above for the two theaters as the counts items\n",
    "fig, ax = plt.subplots()\n",
    "# So for my case, I want to plot 2 bars: one for each theatre, and 3 kinds of composition; OR, I could do the other \n",
    "# way round, with three categories of plays on the x axis, and \n",
    "# in the example, weight_counts is in y axis; so here, the number is the y axis, meaning the x axis would be \n",
    "ax.bar(cat, ht, bottom)"
   ]
  },
  {
   "cell_type": "markdown",
   "metadata": {
    "id": "VK5BCBLi44jb"
   },
   "source": [
    "### Pie Chart\n",
    "\n",
    "Pie chart is an intuitive way to see proportions in data. We can create a pie chart to see how much each show name contributes to the gross revenue of a given theatre, for example the \"Criterion\" theatre."
   ]
  },
  {
   "cell_type": "code",
   "execution_count": null,
   "metadata": {
    "id": "FlahqyIN4-cS"
   },
   "outputs": [],
   "source": [
    "# We only need the data for Criterion, and only the show names and gross revenue columns\n",
    "criterionGross = shows[shows[\"Show.Theatre\"]==\"Criterion\"][[ \"Show.Name\", \"Statistics.Gross\" ]]\n",
    "\n",
    "# Group by show names and aggregate for the total revenue\n",
    "revenueByShows = criterionGross.groupby( \"Show.Name\" ).sum( numeric_only=True )\n",
    "revenueByShows"
   ]
  },
  {
   "cell_type": "markdown",
   "metadata": {},
   "source": [
    "A pie chart can be created using the `pyplot.pie` function."
   ]
  },
  {
   "cell_type": "code",
   "execution_count": null,
   "metadata": {
    "id": "JcBZVYttIz-r"
   },
   "outputs": [],
   "source": [
    "plt.pie( revenueByShows[ \"Statistics.Gross\" ], labels = revenueByShows.index, autopct = '%0.0f%%' )"
   ]
  },
  {
   "cell_type": "markdown",
   "metadata": {},
   "source": [
    "__EXERCISE:__\n",
    "\n",
    "Create a pie chart to visualize the proportion of total attendance in each show name, for the \"Winter Garden\" theatre."
   ]
  },
  {
   "cell_type": "code",
   "execution_count": null,
   "metadata": {},
   "outputs": [],
   "source": [
    "# TODO: Create a pie chart to visualize the proportion of total attendance in each show name, for the \"Winter Garden\" theatre"
   ]
  },
  {
   "cell_type": "markdown",
   "metadata": {
    "id": "UzuLYKQH7syk"
   },
   "source": [
    "# Introduction to Seaborn\n",
    "\n",
    "Seaborn is a library for making statistical graphics in Python. It builds on top of matplotlib and integrates closely with pandas data structures. Seaborn is a complement, not a substitute to Matplotlib, but it makes a few-well defined hard usual tasks easy to do. \n"
   ]
  },
  {
   "cell_type": "markdown",
   "metadata": {
    "id": "Uo-RRCrWO875"
   },
   "source": [
    "## Overview of Seaborn's Plotting Functionality\n",
    "\n",
    "Seaborn organizes plotting functions into __modules__ of functions that achieve similar visualization goals through different means. \n",
    "\n",
    "The most commonly used modules are _relational_ (for visualizing statistical relationships), _distributional_ (for visualizing distributions), and _categorical_ (for visualizing categorical data). Other than these, there are also _regression_ plots and _matrix_ plots, as listed in the [documentation](https://seaborn.pydata.org/api.html#function-interface).\n",
    "\n",
    "In addition to these modules, there is a cross-cutting classification of seaborn functions as “axes-level” or “figure-level”. \n",
    "\n",
    "__Axes-level__ functions make self-contained plots. They act like drop-in replacements for matplotlib functions, plotting data onto a single ```matplotlib.pyplot.Axes``` object. While they add axis labels and legends automatically, they don’t modify anything beyond the axes that they are drawn into.\n",
    "\n",
    "In contrast, __figure-level__ functions interface with Matplotlib through a Seaborn object, usually a `FacetGrid`, that manages the figure. Because these functions \"own\" their own figure, they can implement features such as putting the legend outside of the plot.\n",
    "\n",
    "Each module has a single figure-level function, which offers a unitary interface to its various axes-level functions. The high-level view as available on the tutorial website is:\n",
    "<img src=\"https://seaborn.pydata.org/_images/function_overview_8_0.png\">"
   ]
  },
  {
   "cell_type": "markdown",
   "metadata": {
    "id": "wV4hGEj-7syl"
   },
   "source": [
    "## Visualization with Seaborn\n",
    "\n",
    "The ```set_theme``` function sets the matplotlib parameters and hence the theme will now apply to all plots using matplotlib - whether plotted through seaborn or not. This is also the default theme."
   ]
  },
  {
   "cell_type": "code",
   "execution_count": null,
   "metadata": {
    "id": "vUMGTIRv7syl"
   },
   "outputs": [],
   "source": [
    "import seaborn as sns\n",
    "\n",
    "sns.set_theme()"
   ]
  },
  {
   "cell_type": "markdown",
   "metadata": {
    "id": "Uo-RRCrWO875"
   },
   "source": [
    "## Relational Functions\n",
    "\n",
    "Let us look at a few plots that belong to the relational module, and get a sense of how we use axes-level functions (e.g., `scatterplot`) compared to how we use the corresponding figure-level function (i.e., `relplot`).\n",
    "\n",
    "### Scatterplot\n",
    "\n",
    "Using Seaborn's axes-level `scatterplot` function, we can easily recreate the scatter plot of gross revenue against attendance that we did previously using matplotlib, albeit with different colors.\n",
    "\n",
    "Unlike when using matplotlib directly, it is not necessary to specify attributes of the plot elements in terms of the color values or marker codes. Behind the scenes, seaborn handles the translation from values in the dataframe to arguments that matplotlib understands.\n",
    "\n",
    "__EXERCISE:__\n",
    "\n",
    "Refer to the [`scatterplot` API reference](https://seaborn.pydata.org/generated/seaborn.scatterplot.html) to visualize how gross revenue changes with attendance numbers, for shows after the year 2015, using different colors for different show types.\n",
    "\n",
    "_Hint:_ What arguments should you specify to the function as `data`, `x`, `y`, and `hue`?"
   ]
  },
  {
   "cell_type": "code",
   "execution_count": null,
   "metadata": {
    "id": "KWU2YijFO-Ml"
   },
   "outputs": [],
   "source": [
    "# TODO: Use Seaborn scatterplot to visualize gross revenue vs attendance for shows after 2015, color-differentiated by show types"
   ]
  },
  {
   "cell_type": "markdown",
   "metadata": {
    "id": "O5uC72PPapM8"
   },
   "source": [
    "### Relplot\n",
    "\n",
    "Alternatively, we can use the figure-level function `relplot` to visualize the same relationship of gross revenue against attendance. \n",
    "\n",
    "Figure-level functions are powerful in visualising additional variables, such as the theatre and the show type, which can easily be specified within the same function.\n",
    "\n",
    "__EXERCISE:__\n",
    "\n",
    "Refer to the [`relplot` API reference](https://seaborn.pydata.org/generated/seaborn.relplot.html) for the syntax, and use `relplot` to visualize how gross revenue changes with attendance numbers, for shows after the year 2015. Use the `hue` and `style` arguments to visualize the different theatres and show types respectively."
   ]
  },
  {
   "cell_type": "code",
   "execution_count": null,
   "metadata": {
    "id": "fvA7bIWn7syl"
   },
   "outputs": [],
   "source": [
    "# TODO: Use relplot to visualize gross against attendance of shows after 2015, further differentiating the display by theatres and show types"
   ]
  },
  {
   "cell_type": "markdown",
   "metadata": {},
   "source": [
    "As we know, too much information becomes difficult to understand in a single plot. However, the aim here is to demonstrate how easy it is to create the plot using seaborn."
   ]
  },
  {
   "cell_type": "markdown",
   "metadata": {
    "id": "jTgSrucL7syp"
   },
   "source": [
    "### Estimating Regression Fits using `lmplot`\n",
    "\n",
    "Aside from the axes-level vs figure-level usage, the scatter plot in the above exercises can be further enhanced using Seaborn `lmplot` to include a linear regression model (and its uncertainty). \n",
    "\n",
    "In the simplest invocation, the `lmplot` function draws a scatter plot of two variables, `x` and `y`, and then fit the regression model `y` ~ `x` and plot the resulting regression line and a 95% confidence interval for that regression.\n",
    "\n",
    "__EXERCISE:__\n",
    "\n",
    "Refer to the [`lmplot` API reference](https://seaborn.pydata.org/generated/seaborn.lmplot.html) for the syntax, and use it to fit the regression model for the above scatter plot of gross revenue vs attendance of shows after 2015.\n",
    "\n",
    "_Hint:_ What arguments should you specify to the function as `data`, `x`, and `y`?"
   ]
  },
  {
   "cell_type": "code",
   "execution_count": null,
   "metadata": {
    "id": "mN5AZafi7syq"
   },
   "outputs": [],
   "source": [
    "# TODO: Use Seaborn lmplot to fit the regression model for gross revenue vs attendance of shows after 2015"
   ]
  },
  {
   "cell_type": "markdown",
   "metadata": {},
   "source": [
    "## Distributional Functions\n",
    "\n",
    "In the distributional module, one of the axes-level function is `kdeplot`, while the figure-level function is `displot`.\n",
    "\n",
    "### KDE Plot\n",
    "\n",
    "The ```kdeplot``` function is a kernel density estimate plot to visualise the distribution of observations in a dataset. For example, we can plot the distribution of show types across the years."
   ]
  },
  {
   "cell_type": "code",
   "execution_count": null,
   "metadata": {
    "id": "86kV70cqazfk"
   },
   "outputs": [],
   "source": [
    "sns.kdeplot( data=shows, x=\"Date.Year\", hue=\"Show.Type\", multiple=\"stack\" )"
   ]
  },
  {
   "cell_type": "markdown",
   "metadata": {
    "id": "jyyTooXK7syn"
   },
   "source": [
    "### Displot\n",
    "\n",
    "Similar to what we have seen for the relational module, the figure-level function allows us to visualize multiple features very easily.\n",
    "\n",
    "With the same objective of plotting the distribution of show types across the years, the `displot` function can be used to display bar plots along with distribution estimates (a KDE plot)."
   ]
  },
  {
   "cell_type": "code",
   "execution_count": null,
   "metadata": {
    "id": "oxjSeJvt7syo"
   },
   "outputs": [],
   "source": [
    "sns.displot( data=shows, x=\"Date.Year\", col=\"Show.Type\", kde=True )"
   ]
  },
  {
   "cell_type": "markdown",
   "metadata": {
    "id": "8boL_kmu7sym"
   },
   "source": [
    "### Jointplot\n",
    "\n",
    "Seaborn `jointplot` is a function cannot be categorized neatly, as it can be used to plot a relationship between two variables while simultaneously exploring the distribution of each underlying variable.\n",
    "\n",
    "With the same visualization objectives as previous exercises, let us visualize the relationship between the attendance and gross revenue, along with the distribution of each variable. The show type can simultaneously be shown easily."
   ]
  },
  {
   "cell_type": "code",
   "execution_count": null,
   "metadata": {
    "id": "To8eDh_m7sym"
   },
   "outputs": [],
   "source": [
    "sns.jointplot( data=shows, x=\"Statistics.Attendance\", y=\"Statistics.Gross\", hue=\"Show.Type\" )"
   ]
  },
  {
   "cell_type": "markdown",
   "metadata": {
    "id": "Qb6HUDH77syq"
   },
   "source": [
    "## Categorical Functions\n",
    "\n",
    "Categorical plotting functions visualize the distribution with respect to categories.\n",
    "\n",
    "Let us prepare our dataset by converting the month and year variables to category for visualization."
   ]
  },
  {
   "cell_type": "code",
   "execution_count": null,
   "metadata": {
    "id": "eSHQiz867syo"
   },
   "outputs": [],
   "source": [
    "shows[\"Date.Month\"] = shows[\"Date.Months\"].astype(\"category\")\n",
    "shows[\"Date.Year\"] = shows[\"Date.Year\"].astype(\"category\")"
   ]
  },
  {
   "cell_type": "markdown",
   "metadata": {
    "id": "Qb6HUDH77syq"
   },
   "source": [
    "### Boxplot\n",
    "\n",
    "Boxplots are plots that show the distribution of a dataset based on its five-number summary of data points: the minimum, first quartile (Q1), median, third quartile (Q3), and the maximum. Boxplots also show us the outliers, whether the data is symmetrical, how tightly the data is grouped, and if and how the data is skewed.\n",
    "\n",
    "The axes-level `boxplot` function visualizes boxplots with respect to a categorical variable.\n",
    "\n",
    "__EXERCISE:__\n",
    "\n",
    "Suppose we want to see whether show attendance is higher in any particular month. \n",
    "\n",
    "Refer to the examples on the [boxplot API reference](https://seaborn.pydata.org/generated/seaborn.boxplot.html) and use `boxplot` to visualize this distribution.\n",
    "\n",
    "_Hint:_ What is the categorical variable (`y`)? What is the variable whose distribution we want to see (`x`)?"
   ]
  },
  {
   "cell_type": "code",
   "execution_count": null,
   "metadata": {
    "id": "bkwh__gI_ZQU"
   },
   "outputs": [],
   "source": [
    "# TODO: Use boxplot to visualize whether show attendance is higher in any particular month"
   ]
  },
  {
   "cell_type": "markdown",
   "metadata": {},
   "source": [
    "### Countplot\n",
    "\n",
    "Another axes-level function in the categorical module is `countplot`, which shows the counts of observations in each categorical bin using bars. A countplot can be thought of as a histogram across a categorical, instead of quantitative, variable. \n",
    "\n",
    "__EXERCISE:__\n",
    "\n",
    "Suppose we want to see whether certain show types are more prevalent in any particular month. \n",
    "\n",
    "Refer to the examples on the [countplot API reference](https://seaborn.pydata.org/generated/seaborn.countplot.html) and use `countplot` to visualize this distribution.\n",
    "\n",
    "_Hint:_ What is the categorical variable (`x`)? Which variable occurences do we want to observe (`hue`)?"
   ]
  },
  {
   "cell_type": "code",
   "execution_count": null,
   "metadata": {
    "id": "p0t3BhD56s1y"
   },
   "outputs": [],
   "source": [
    "# TODO: Use countplot to visualize whether certain show types are more prevalent in any particular month"
   ]
  },
  {
   "cell_type": "markdown",
   "metadata": {
    "id": "Qb6HUDH77syq"
   },
   "source": [
    "### Catplot\n",
    "\n",
    "The figure-level ```catplot``` function provides access to several axes-level categorical plotting functions, enabling visualization of the relationship between a numerical and one or more categorical variables using one of several visual representations.\n",
    "\n",
    "The ```kind``` parameter selects the underlying axes-level function to use. \n",
    "\n",
    "Using `catplot`, it is easy to extend the earlier boxplot to include differentiation by show types."
   ]
  },
  {
   "cell_type": "code",
   "execution_count": null,
   "metadata": {
    "id": "alE4TQQHv79S"
   },
   "outputs": [],
   "source": [
    "sns.catplot( data=shows, kind=\"box\", x=\"Statistics.Attendance\", y=\"Date.Month\", hue=\"Show.Type\" )"
   ]
  },
  {
   "cell_type": "markdown",
   "metadata": {},
   "source": [
    "## Extra: Heatmap\n",
    "\n",
    "The `heatmap` function plots rectangular data as a color-encoded matrix. It can be used to find any correlation between the various numeric data types in the dataset, whether they are negatively or positively correlated and how strongly.\n",
    "\n",
    "For our Broadway Shows dataset, we can use `corr` to compute pairwise correlation of columns, then visualize this using `heatmap`."
   ]
  },
  {
   "cell_type": "code",
   "execution_count": null,
   "metadata": {},
   "outputs": [],
   "source": [
    "sns.heatmap( shows.corr( numeric_only=True ), vmin=-1, vmax=1, annot=True )"
   ]
  },
  {
   "cell_type": "markdown",
   "metadata": {},
   "source": [
    "We see relatively high correlation between gross revenue and attendance or filled capacity, which is logical.\n",
    "\n",
    "# Closing Remarks\n",
    "\n",
    "We have worked through a number of plots using Matplotlib and Seaborn in this tutorial. These are only a small part of the vast collection of visualization capabilities that the two libraries provide.\n",
    "\n",
    "As you have done in these exercises, when you encounter a visualization goal, consider the nature of the data and the purpose of the visualization (relational, distributional, and so on), then simply look up the guides and API references of the suitable modules!"
   ]
  }
 ],
 "metadata": {
  "colab": {
   "provenance": [],
   "toc_visible": true
  },
  "kernelspec": {
   "display_name": "base",
   "language": "python",
   "name": "python3"
  },
  "language_info": {
   "codemirror_mode": {
    "name": "ipython",
    "version": 3
   },
   "file_extension": ".py",
   "mimetype": "text/x-python",
   "name": "python",
   "nbconvert_exporter": "python",
   "pygments_lexer": "ipython3",
   "version": "3.11.5"
  }
 },
 "nbformat": 4,
 "nbformat_minor": 1
}
