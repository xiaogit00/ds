{
 "cells": [
  {
   "cell_type": "code",
   "execution_count": 3,
   "metadata": {},
   "outputs": [],
   "source": [
    "import pandas as pd\n",
    "import numpy as np\n"
   ]
  },
  {
   "cell_type": "code",
   "execution_count": 4,
   "metadata": {},
   "outputs": [],
   "source": [
    "data = pd.read_csv('./datasets/ACCIDENTS_GU_BCN_2010.csv', encoding='latin-1')"
   ]
  },
  {
   "cell_type": "code",
   "execution_count": 6,
   "metadata": {},
   "outputs": [
    {
     "name": "stdout",
     "output_type": "stream",
     "text": [
      "2010 mean: 24.81095890410959\n",
      "2013 mean: 25.90958904109589\n"
     ]
    }
   ],
   "source": [
    "data['Date'] = '2010' + '-' + data[u'Dia de mes'].apply(lambda x: str(x)) + '-' + data[u'Mes de any'].apply(lambda x: str(x)) \n",
    "data['Date'] = pd.to_datetime(data['Date'], dayfirst=True)\n",
    "counts2010 = data['Date'].value_counts()\n",
    "print('2010 mean:', counts2010.mean())\n",
    "\n",
    "data2 = pd.read_csv('./datasets/ACCIDENTS_GU_BCN_2013.csv', encoding='latin-1')\n",
    "data2['Date'] = '2013' + '-' + data2[u'Dia de mes'].apply(lambda x: str(x)) + '-' + data2[u'Mes de any'].apply(lambda x: str(x)) \n",
    "data2['Date'] = pd.to_datetime(data2['Date'], dayfirst=True)\n",
    "counts2013 = data2['Date'].value_counts()\n",
    "print('2013 mean:', counts2013.mean())\n",
    "\n"
   ]
  },
  {
   "cell_type": "markdown",
   "metadata": {},
   "source": [
    "It seems to suggest that the mean for 2013 is higher. But is it statistically significant?\n",
    "\n",
    "We can calculate the 95% confidence interval as follows:"
   ]
  },
  {
   "cell_type": "code",
   "execution_count": 10,
   "metadata": {},
   "outputs": [
    {
     "name": "stdout",
     "output_type": "stream",
     "text": [
      "2010 rate estimate: 24.81095890410959\n",
      "2013 rate estimate: 25.90958904109589\n",
      "CI for 2013:  [24.975156065800284, 26.8440220163915]\n"
     ]
    }
   ],
   "source": [
    "n = len(counts2013)\n",
    "\n",
    "mean = counts2013.mean()\n",
    "s = counts2013.std()\n",
    "\n",
    "ci = [mean - s*1.96/np.sqrt(n), mean + s*1.96/np.sqrt(n)]\n",
    "print('2010 rate estimate:', counts2010.mean())\n",
    "print('2013 rate estimate:', counts2013.mean())\n",
    "print('CI for 2013: ', ci)"
   ]
  },
  {
   "cell_type": "markdown",
   "metadata": {},
   "source": [
    "#### Because the 2010 accident rate estimate does not fall in the range of plausible values of 2013, we say alternative hypothesis cannot be discarded. We say that it can't be ruled out that the mean rate of accident in 2013 was higher than in 2010. "
   ]
  },
  {
   "cell_type": "markdown",
   "metadata": {},
   "source": [
    "## P-value"
   ]
  },
  {
   "cell_type": "code",
   "execution_count": 11,
   "metadata": {},
   "outputs": [
    {
     "name": "stdout",
     "output_type": "stream",
     "text": [
      "mean difference 1.0986301369863014\n"
     ]
    }
   ],
   "source": [
    "m = len(counts2010)\n",
    "n = len(counts2013)\n",
    "\n",
    "p = (counts2013.mean() - counts2010.mean())\n",
    "\n",
    "print(\"mean difference\", p)\n"
   ]
  },
  {
   "cell_type": "code",
   "execution_count": 53,
   "metadata": {},
   "outputs": [
    {
     "name": "stdout",
     "output_type": "stream",
     "text": [
      "[  28   39   62   72   82  123  136  163  195  204  226  240  257  263\n",
      "  278  283  297  299  305  322  330  341  352  353  367  377  382  383\n",
      "  391  431  440  476  540  551  552  595  604  631  641  681  685  708\n",
      "  714  760  775  834  890  947  987  994 1075 1093 1108 1123 1161 1180\n",
      " 1194 1201 1245 1252 1271 1275 1276 1284 1346 1356 1357 1360 1370 1377\n",
      " 1394 1412 1441 1459 1499 1512 1520 1532 1568 1595 1622 1625 1636 1720\n",
      " 1756 1767 1769 1785 1794 1846 1890 1897 1907 1928 1936 2012 2046 2078\n",
      " 2107 2158 2170 2200 2218 2219 2229 2242 2243 2268 2285 2287 2297 2317\n",
      " 2322 2350 2352 2367 2420 2435 2465 2500 2524 2541 2544 2546 2592 2622\n",
      " 2628 2649 2697 2724 2732 2751 2753 2760 2826 2846 2858 2874 2893 2894\n",
      " 2918 2940 2941 2961 2994 3001 3015 3059 3066 3072 3084 3099 3100 3103\n",
      " 3119 3121 3146 3161 3183 3252 3259 3263 3267 3275 3301 3312 3323 3326\n",
      " 3359 3378 3379 3384 3389 3426 3478 3554 3556 3571 3589 3592 3598 3603\n",
      " 3614 3617 3645 3670 3681 3695 3703 3710 3752 3776 3778 3794 3799 3818\n",
      " 3839 3875 3885 3901 3908 3944 3967 4038 4049 4117 4124 4130 4141 4153\n",
      " 4157 4173 4236 4240 4275 4276 4284 4285 4297 4309 4314 4318 4359 4360\n",
      " 4409 4414 4427 4448 4457 4464 4470 4492 4504 4557 4571 4577 4589 4608\n",
      " 4610 4629 4640 4649 4653 4671 4672 4694 4727 4730 4739 4749 4753 4771\n",
      " 4784 4785 4787 4793 4816 4840 4860 4877 4911 4936 4956 4969 5012 5059\n",
      " 5061 5072 5139 5147 5168 5216 5220 5227 5228 5239 5269 5270 5301 5321\n",
      " 5322 5394 5411 5475 5486 5534 5561 5603 5615 5622 5631 5735 5736 5750\n",
      " 5755 5772 5774 5779 5828 5840 5850 5855 5869 5956 5990 5993 5995 6048\n",
      " 6096 6141 6167 6182 6192 6204 6224 6230 6257 6274 6282 6302 6360 6398\n",
      " 6431 6466 6483 6513 6539 6564 6629 6672 6685 6711 6712 6713 6726 6730\n",
      " 6732 6757 6774 6786 6794 6806 6810 6817 6839 6851 6868 6877 6886 6947\n",
      " 6953 6963 6972 6995 7004 7012 7074 7091 7092 7097 7104 7138 7140 7150\n",
      " 7152 7194 7228 7237 7277 7287 7289 7339 7366 7398 7413 7424 7492 7498\n",
      " 7518 7571 7586 7608 7623 7637 7643 7653 7730 7739 7747 7761 7827 7860\n",
      " 7887 7918 7921 7938 7952 7966 7977 7978 7979 8036 8061 8069 8072 8081\n",
      " 8087 8096 8130 8176 8182 8187 8205 8210 8223 8229 8238 8246 8249 8304\n",
      " 8316 8327 8346 8365 8426 8428 8478 8481 8514 8515 8516 8567 8589 8640\n",
      " 8656 8658 8729 8793 8798 8799 8851 8853 8879 8887 8889 8907 8911 8930\n",
      " 8999 9001 9048 9163 9257 9262 9265 9312 9318 9353 9357 9363 9406 9471\n",
      " 9472 9509 9538 9580 9589 9609 9612 9634 9649 9687 9704 9714 9746 9761\n",
      " 9786 9803 9823 9825 9850 9854 9878 9901 9916 9941 9945 9952 9967 9983]\n",
      "490\n",
      "p-value (Simulation) =  0.049 Difference =  1.0986301369863014\n",
      "The effect is likely\n"
     ]
    }
   ],
   "source": [
    "x = counts2010\n",
    "y = counts2013\n",
    "pool = np.concatenate([x, y]) # daily accidents for both years, pooled\n",
    "np.random.shuffle(pool)\n",
    "\n",
    "import random\n",
    "\n",
    "N = 10000\n",
    "diff = [0]*N\n",
    "for i in range(N):\n",
    "    p1 = [random.choice(pool) for _ in range(n)] # select 365 random values from pool\n",
    "    p2 = [random.choice(pool) for _ in range(n)] # select 365 random values from pool\n",
    "    diff[i] = (np.mean(p1) - np.mean(p2)) # an array of difference between both means, 10k in length\n",
    "    #^ what exactly is going on in this step above? p1 and p2 are 2 random samples. you are finding out whether there's any difference in means between 10k pairs of samples. \n",
    "'''\n",
    "diff:\n",
    "[0.0027397260274000246,\n",
    " -0.29315068493150775,\n",
    " 0.2136986301369852,\n",
    " -0.6054794520547944,\n",
    " 0.19178082191780632,...]\n",
    "'''\n",
    "\n",
    "diff2 = np.array(diff)\n",
    "w1 = np.where(diff2 > p)[0] # returns index of those with diff more than p\n",
    "print(w1)\n",
    "print(len(w1))\n",
    "# Here, p value is num of w1 over total N. What is w1? -> first, diff2 contains those difference in means of 10k sample pairs. w1 is a filter to find those with differences larger than p. w1 is thus the proportion of those with differences larger than p, versus those less than P. \n",
    "\n",
    "'''\n",
    "w1/N -> represents the probability of observing a difference as extreme as p (or more extreme) if the null hypothesis were true (i.e., there is no actual difference between the means of the two groups).\n",
    "\n",
    "For instance, if w1 only has 1/10k, that shows that in fact, observing a difference is VERY uncommon, which means the actual observation of p, is less likely to have happened due to chance. \n",
    "\n",
    "w1 calculates how LIKELY it is to observe a difference more than p. if everyday we observe p (w1 being very long), say 50% chance, then we say that we are not very confident that an observation of p is due to chance. However, \n",
    "'''\n",
    "print('p-value (Simulation) = ', len(w1)/float(N), 'Difference = ', p) #\n",
    "\n",
    "if (len(w1)/float(N) < 0.05):\n",
    "    print(\"The effect is likely\")\n",
    "else: \n",
    "    print(\"The effect is not likely\")"
   ]
  },
  {
   "cell_type": "code",
   "execution_count": 51,
   "metadata": {},
   "outputs": [
    {
     "data": {
      "text/plain": [
       "-3"
      ]
     },
     "execution_count": 51,
     "metadata": {},
     "output_type": "execute_result"
    }
   ],
   "source": [
    "(-2 -1)"
   ]
  }
 ],
 "metadata": {
  "kernelspec": {
   "display_name": "base",
   "language": "python",
   "name": "python3"
  },
  "language_info": {
   "codemirror_mode": {
    "name": "ipython",
    "version": 3
   },
   "file_extension": ".py",
   "mimetype": "text/x-python",
   "name": "python",
   "nbconvert_exporter": "python",
   "pygments_lexer": "ipython3",
   "version": "3.11.5"
  }
 },
 "nbformat": 4,
 "nbformat_minor": 2
}
